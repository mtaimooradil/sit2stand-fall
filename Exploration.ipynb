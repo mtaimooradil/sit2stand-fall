{
 "cells": [
  {
   "cell_type": "code",
   "execution_count": 99,
   "metadata": {},
   "outputs": [],
   "source": [
    "import pandas as pd\n",
    "import numpy as np\n",
    "import matplotlib.pyplot as plt\n",
    "import seaborn as sns\n",
    "from matplotlib.ticker import ScalarFormatter"
   ]
  },
  {
   "cell_type": "code",
   "execution_count": 3,
   "metadata": {},
   "outputs": [],
   "source": [
    "data = pd.read_csv('./stats/dataClean v2.csv')"
   ]
  },
  {
   "cell_type": "code",
   "execution_count": 4,
   "metadata": {},
   "outputs": [
    {
     "data": {
      "text/html": [
       "<div>\n",
       "<style scoped>\n",
       "    .dataframe tbody tr th:only-of-type {\n",
       "        vertical-align: middle;\n",
       "    }\n",
       "\n",
       "    .dataframe tbody tr th {\n",
       "        vertical-align: top;\n",
       "    }\n",
       "\n",
       "    .dataframe thead th {\n",
       "        text-align: right;\n",
       "    }\n",
       "</style>\n",
       "<table border=\"1\" class=\"dataframe\">\n",
       "  <thead>\n",
       "    <tr style=\"text-align: right;\">\n",
       "      <th></th>\n",
       "      <th>time</th>\n",
       "      <th>time_diff</th>\n",
       "      <th>speed</th>\n",
       "      <th>time_sd</th>\n",
       "      <th>speed_sd</th>\n",
       "      <th>left_knee_range_mean</th>\n",
       "      <th>left_knee_sd</th>\n",
       "      <th>left_knee_max</th>\n",
       "      <th>left_knee_min</th>\n",
       "      <th>left_knee_max_mean</th>\n",
       "      <th>...</th>\n",
       "      <th>totalSEE</th>\n",
       "      <th>numMedCond</th>\n",
       "      <th>EthCat</th>\n",
       "      <th>backpain</th>\n",
       "      <th>depression</th>\n",
       "      <th>highBP</th>\n",
       "      <th>falling_1</th>\n",
       "      <th>falling_2</th>\n",
       "      <th>falling_3</th>\n",
       "      <th>fallsBin</th>\n",
       "    </tr>\n",
       "  </thead>\n",
       "  <tbody>\n",
       "    <tr>\n",
       "      <th>0</th>\n",
       "      <td>18.752067</td>\n",
       "      <td>-0.275275</td>\n",
       "      <td>0.27</td>\n",
       "      <td>0.631539</td>\n",
       "      <td>0.058177</td>\n",
       "      <td>66.356510</td>\n",
       "      <td>29.013062</td>\n",
       "      <td>174.921910</td>\n",
       "      <td>92.965645</td>\n",
       "      <td>173.194095</td>\n",
       "      <td>...</td>\n",
       "      <td>7.333333</td>\n",
       "      <td>3</td>\n",
       "      <td>1</td>\n",
       "      <td>0</td>\n",
       "      <td>0</td>\n",
       "      <td>0</td>\n",
       "      <td>5</td>\n",
       "      <td>0</td>\n",
       "      <td>0</td>\n",
       "      <td>0</td>\n",
       "    </tr>\n",
       "    <tr>\n",
       "      <th>1</th>\n",
       "      <td>13.346667</td>\n",
       "      <td>-0.216883</td>\n",
       "      <td>0.37</td>\n",
       "      <td>0.395926</td>\n",
       "      <td>0.071269</td>\n",
       "      <td>69.628002</td>\n",
       "      <td>26.293871</td>\n",
       "      <td>188.856174</td>\n",
       "      <td>110.926374</td>\n",
       "      <td>184.429725</td>\n",
       "      <td>...</td>\n",
       "      <td>4.666667</td>\n",
       "      <td>0</td>\n",
       "      <td>1</td>\n",
       "      <td>0</td>\n",
       "      <td>0</td>\n",
       "      <td>0</td>\n",
       "      <td>0</td>\n",
       "      <td>0</td>\n",
       "      <td>0</td>\n",
       "      <td>0</td>\n",
       "    </tr>\n",
       "    <tr>\n",
       "      <th>2</th>\n",
       "      <td>9.175833</td>\n",
       "      <td>0.108442</td>\n",
       "      <td>0.54</td>\n",
       "      <td>0.152175</td>\n",
       "      <td>0.044839</td>\n",
       "      <td>80.953823</td>\n",
       "      <td>30.219053</td>\n",
       "      <td>181.651735</td>\n",
       "      <td>96.723395</td>\n",
       "      <td>180.520050</td>\n",
       "      <td>...</td>\n",
       "      <td>2.888889</td>\n",
       "      <td>0</td>\n",
       "      <td>1</td>\n",
       "      <td>0</td>\n",
       "      <td>0</td>\n",
       "      <td>0</td>\n",
       "      <td>1</td>\n",
       "      <td>0</td>\n",
       "      <td>0</td>\n",
       "      <td>0</td>\n",
       "    </tr>\n",
       "    <tr>\n",
       "      <th>3</th>\n",
       "      <td>13.791667</td>\n",
       "      <td>0.133333</td>\n",
       "      <td>0.36</td>\n",
       "      <td>0.234965</td>\n",
       "      <td>0.031573</td>\n",
       "      <td>72.900182</td>\n",
       "      <td>29.519413</td>\n",
       "      <td>184.377372</td>\n",
       "      <td>103.622265</td>\n",
       "      <td>180.242772</td>\n",
       "      <td>...</td>\n",
       "      <td>6.777778</td>\n",
       "      <td>0</td>\n",
       "      <td>1</td>\n",
       "      <td>0</td>\n",
       "      <td>0</td>\n",
       "      <td>0</td>\n",
       "      <td>2</td>\n",
       "      <td>1</td>\n",
       "      <td>0</td>\n",
       "      <td>0</td>\n",
       "    </tr>\n",
       "    <tr>\n",
       "      <th>4</th>\n",
       "      <td>11.444767</td>\n",
       "      <td>-0.108442</td>\n",
       "      <td>0.44</td>\n",
       "      <td>0.225910</td>\n",
       "      <td>0.045701</td>\n",
       "      <td>71.881103</td>\n",
       "      <td>27.642812</td>\n",
       "      <td>186.287796</td>\n",
       "      <td>104.791805</td>\n",
       "      <td>179.420205</td>\n",
       "      <td>...</td>\n",
       "      <td>5.333333</td>\n",
       "      <td>0</td>\n",
       "      <td>1</td>\n",
       "      <td>0</td>\n",
       "      <td>0</td>\n",
       "      <td>0</td>\n",
       "      <td>2</td>\n",
       "      <td>0</td>\n",
       "      <td>0</td>\n",
       "      <td>0</td>\n",
       "    </tr>\n",
       "  </tbody>\n",
       "</table>\n",
       "<p>5 rows × 520 columns</p>\n",
       "</div>"
      ],
      "text/plain": [
       "        time  time_diff  speed   time_sd  speed_sd  left_knee_range_mean  \\\n",
       "0  18.752067  -0.275275   0.27  0.631539  0.058177             66.356510   \n",
       "1  13.346667  -0.216883   0.37  0.395926  0.071269             69.628002   \n",
       "2   9.175833   0.108442   0.54  0.152175  0.044839             80.953823   \n",
       "3  13.791667   0.133333   0.36  0.234965  0.031573             72.900182   \n",
       "4  11.444767  -0.108442   0.44  0.225910  0.045701             71.881103   \n",
       "\n",
       "   left_knee_sd  left_knee_max  left_knee_min  left_knee_max_mean  ...  \\\n",
       "0     29.013062     174.921910      92.965645          173.194095  ...   \n",
       "1     26.293871     188.856174     110.926374          184.429725  ...   \n",
       "2     30.219053     181.651735      96.723395          180.520050  ...   \n",
       "3     29.519413     184.377372     103.622265          180.242772  ...   \n",
       "4     27.642812     186.287796     104.791805          179.420205  ...   \n",
       "\n",
       "   totalSEE  numMedCond  EthCat  backpain  depression  highBP  falling_1  \\\n",
       "0  7.333333           3       1         0           0       0          5   \n",
       "1  4.666667           0       1         0           0       0          0   \n",
       "2  2.888889           0       1         0           0       0          1   \n",
       "3  6.777778           0       1         0           0       0          2   \n",
       "4  5.333333           0       1         0           0       0          2   \n",
       "\n",
       "   falling_2  falling_3  fallsBin  \n",
       "0          0          0         0  \n",
       "1          0          0         0  \n",
       "2          0          0         0  \n",
       "3          1          0         0  \n",
       "4          0          0         0  \n",
       "\n",
       "[5 rows x 520 columns]"
      ]
     },
     "execution_count": 4,
     "metadata": {},
     "output_type": "execute_result"
    }
   ],
   "source": [
    "data.head()"
   ]
  },
  {
   "cell_type": "code",
   "execution_count": 9,
   "metadata": {},
   "outputs": [
    {
     "data": {
      "text/plain": [
       "fallsBin\n",
       "0    371\n",
       "1     34\n",
       "Name: count, dtype: int64"
      ]
     },
     "execution_count": 9,
     "metadata": {},
     "output_type": "execute_result"
    }
   ],
   "source": [
    "data['fallsBin'].value_counts()"
   ]
  },
  {
   "cell_type": "code",
   "execution_count": 225,
   "metadata": {},
   "outputs": [
    {
     "data": {
      "text/plain": [
       "0.09164420485175202"
      ]
     },
     "execution_count": 225,
     "metadata": {},
     "output_type": "execute_result"
    }
   ],
   "source": [
    "34/371"
   ]
  },
  {
   "cell_type": "code",
   "execution_count": 228,
   "metadata": {},
   "outputs": [],
   "source": [
    "def kde_plot(data, feature, save_path):\n",
    "    # Separate data by binary outcome\n",
    "    data_0 = data[data['fallsBin'] == 0][feature]\n",
    "    data_1 = data[data['fallsBin'] == 1][feature]\n",
    "\n",
    "    feature = feature.replace('_', ' ').title()\n",
    "\n",
    "    # Plot KDEs on the same graph\n",
    "    plt.figure(figsize=(4, 2))\n",
    "    sns.kdeplot(data_0, label='No Falls', fill=True, color='g')\n",
    "    sns.kdeplot(data_1, label='Falls',fill=True, color='b')\n",
    "    # plt.title(f'{feature}', fontdict={'fontname': 'Arial', 'fontsize': 12})\n",
    "    plt.xlabel(feature, fontdict={'fontname': 'Arial', 'fontsize': 9})\n",
    "    plt.ylabel('Density', fontdict={'fontname': 'Arial', 'fontsize': 9})\n",
    "    plt.legend(prop={'family': 'Arial', 'size': 8})\n",
    "    ax = plt.gca()\n",
    "    ax.yaxis.set_major_formatter(ScalarFormatter(useMathText=True))\n",
    "    ax.ticklabel_format(style='sci', axis='y', scilimits=(0,0))\n",
    "    ax.yaxis.get_offset_text().set_size(7)\n",
    "\n",
    "    ax.tick_params(axis='both', which='major', labelsize=7)\n",
    "    ax.tick_params(axis='both', which='minor', labelsize=7)\n",
    "\n",
    "    plt.savefig(f'./{save_path}/{feature}.png', dpi=300, bbox_inches='tight')\n",
    "    plt.close()"
   ]
  },
  {
   "cell_type": "code",
   "execution_count": 204,
   "metadata": {},
   "outputs": [
    {
     "name": "stderr",
     "output_type": "stream",
     "text": [
      "C:\\Users\\m93107ma\\AppData\\Local\\Temp\\ipykernel_12560\\420342226.py:10: UserWarning: Dataset has 0 variance; skipping density estimate. Pass `warn_singular=False` to disable this warning.\n",
      "  sns.kdeplot(data_0, label='No Falls', fill=True, color='g')\n",
      "C:\\Users\\m93107ma\\AppData\\Local\\Temp\\ipykernel_12560\\420342226.py:11: UserWarning: Dataset has 0 variance; skipping density estimate. Pass `warn_singular=False` to disable this warning.\n",
      "  sns.kdeplot(data_1, label='Falls',fill=True, color='b')\n",
      "C:\\Users\\m93107ma\\AppData\\Local\\Temp\\ipykernel_12560\\420342226.py:15: UserWarning: No artists with labels found to put in legend.  Note that artists whose label start with an underscore are ignored when legend() is called with no argument.\n",
      "  plt.legend(prop={'family': 'Arial', 'size': 8})\n"
     ]
    }
   ],
   "source": [
    "for feature in list(data.columns):\n",
    "    kde_plot(data, feature)"
   ]
  },
  {
   "cell_type": "code",
   "execution_count": 254,
   "metadata": {},
   "outputs": [],
   "source": [
    "def box_plot(data, feature, save_path):\n",
    "    # Prepare data for boxplot\n",
    "    feature_display_name = feature.replace('_', ' ').title()\n",
    "    data['Feature'] = data[feature]\n",
    "    data['Group'] = data['fallsBin'].apply(lambda x: 'No Falls' if x == 0 else 'Falls')\n",
    "\n",
    "    # Plot boxplot\n",
    "    plt.figure(figsize=(4, 2))\n",
    "    boxplot = sns.boxplot(x='Group', y='Feature', data=data)\n",
    "\n",
    "    \n",
    "    # Set labels with Arial font\n",
    "    # plt.xlabel('Group', fontdict={'fontname': 'Arial', 'fontsize': 9})\n",
    "    plt.xlabel('')\n",
    "    plt.ylabel(feature_display_name, fontdict={'fontname': 'Arial', 'fontsize': 9})\n",
    "\n",
    "    # Adjust tick parameters\n",
    "    ax = plt.gca()\n",
    "    # ax.yaxis.set_major_formatter(ScalarFormatter(useMathText=True))\n",
    "    # ax.ticklabel_format(style='sci', axis='y', scilimits=(0,0))\n",
    "    # ax.yaxis.get_offset_text().set_size(7)\n",
    "    ax.tick_params(axis='both', which='major', labelsize=7)\n",
    "    ax.tick_params(axis='both', which='minor', labelsize=7)\n",
    "\n",
    "    # Save the figure\n",
    "    # plt.savefig(f'{save_path}/{feature_display_name}.png', dpi=300, bbox_inches='tight')\n",
    "    # plt.close()"
   ]
  },
  {
   "cell_type": "code",
   "execution_count": 255,
   "metadata": {},
   "outputs": [
    {
     "data": {
      "image/png": "[encoded data removed]",
      "text/plain": [
       "<Figure size 400x200 with 1 Axes>"
      ]
     },
     "metadata": {},
     "output_type": "display_data"
    }
   ],
   "source": [
    "box_plot(data, 'Age', 'boxplots')"
   ]
  },
  {
   "cell_type": "code",
   "execution_count": 224,
   "metadata": {},
   "outputs": [],
   "source": [
    "for feature in list(data.columns):\n",
    "    box_plot(data, feature)"
   ]
  },
  {
   "cell_type": "code",
   "execution_count": 248,
   "metadata": {},
   "outputs": [],
   "source": [
    "data_original = pd.read_csv('./stats/dataClean.csv')"
   ]
  },
  {
   "cell_type": "code",
   "execution_count": 249,
   "metadata": {},
   "outputs": [],
   "source": [
    "significant = pd.read_csv('./stats/significant_features.csv', header=None)\n",
    "significant_columns =list(np.array(significant).flatten())"
   ]
  },
  {
   "cell_type": "code",
   "execution_count": 250,
   "metadata": {},
   "outputs": [
    {
     "name": "stderr",
     "output_type": "stream",
     "text": [
      "C:\\Users\\m93107ma\\AppData\\Local\\Temp\\ipykernel_12560\\3322264318.py:10: UserWarning: Dataset has 0 variance; skipping density estimate. Pass `warn_singular=False` to disable this warning.\n",
      "  sns.kdeplot(data_0, label='No Falls', fill=True, color='g')\n"
     ]
    }
   ],
   "source": [
    "for feature in significant_columns:\n",
    "    try:\n",
    "        box_plot(data_original, feature, 'Significant/Boxplots')\n",
    "        kde_plot(data_original, feature, 'Significant/KDE Plots')\n",
    "    except:\n",
    "        print(f'{feature} does not exist in clean data')"
   ]
  },
  {
   "cell_type": "code",
   "execution_count": null,
   "metadata": {},
   "outputs": [],
   "source": []
  }
 ],
 "metadata": {
  "kernelspec": {
   "display_name": "env",
   "language": "python",
   "name": "python3"
  },
  "language_info": {
   "codemirror_mode": {
    "name": "ipython",
    "version": 3
   },
   "file_extension": ".py",
   "mimetype": "text/x-python",
   "name": "python",
   "nbconvert_exporter": "python",
   "pygments_lexer": "ipython3",
   "version": "3.10.10"
  }
 },
 "nbformat": 4,
 "nbformat_minor": 2
}
