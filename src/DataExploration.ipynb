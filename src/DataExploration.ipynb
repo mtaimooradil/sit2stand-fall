{
 "cells": [
  {
   "cell_type": "code",
   "execution_count": 1,
   "metadata": {
    "vscode": {
     "languageId": "r"
    }
   },
   "outputs": [],
   "source": [
    "knitr::opts_chunk$set(echo = FALSE)"
   ]
  },
  {
   "cell_type": "code",
   "execution_count": 3,
   "metadata": {
    "vscode": {
     "languageId": "r"
    }
   },
   "outputs": [],
   "source": [
    "library(tidyverse)\n",
    "library(jtools)\n",
    "library(FSA)\n",
    "library(ggpubr)\n",
    "library(Hmisc)"
   ]
  },
  {
   "cell_type": "markdown",
   "metadata": {},
   "source": [
    "### Load Data"
   ]
  },
  {
   "cell_type": "code",
   "execution_count": 7,
   "metadata": {
    "vscode": {
     "languageId": "r"
    }
   },
   "outputs": [],
   "source": [
    "df <- read.csv(\"../stats/dataClean.csv\") # Numeric survey data"
   ]
  },
  {
   "cell_type": "markdown",
   "metadata": {},
   "source": [
    "### Correlation Matrix"
   ]
  },
  {
   "cell_type": "code",
   "execution_count": 16,
   "metadata": {
    "vscode": {
     "languageId": "r"
    }
   },
   "outputs": [],
   "source": [
    "# x is a matrix containing the data\n",
    "# method : correlation method. \"pearson\"\" or \"spearman\"\" is supported\n",
    "# removeTriangle : remove upper or lower triangle\n",
    "# results :  if \"html\" or \"latex\"\n",
    "# the results will be displayed in html or latex format\n",
    "corstars <-function(x, method=c(\"pearson\", \"spearman\"), removeTriangle=c(\"upper\", \"lower\"),\n",
    "                     result=c(\"none\", \"html\", \"latex\")){\n",
    "    #Compute correlation matrix\n",
    "    require(Hmisc)\n",
    "    x <- as.matrix(x)\n",
    "    correlation_matrix<-rcorr(x, type=method[2])\n",
    "    R <- correlation_matrix$r # Matrix of correlation coeficients\n",
    "    p <- correlation_matrix$P # Matrix of p-value \n",
    "    \n",
    "    ## Define notions for significance levels; spacing is important.\n",
    "    mystars <- ifelse(p < .0001, \"****\", ifelse(p < .001, \"*** \", ifelse(p < .01, \"**  \", ifelse(p < .05, \"*   \", \"    \"))))\n",
    "    \n",
    "    ## trunctuate the correlation matrix to two decimal\n",
    "    R <- format(round(cbind(rep(-1.11, ncol(x)), R), 2))[,-1]\n",
    "    \n",
    "    ## build a new matrix that includes the correlations with their apropriate stars\n",
    "    Rnew <- matrix(paste(R, mystars, sep=\"\"), ncol=ncol(x))\n",
    "    diag(Rnew) <- paste(diag(R), \" \", sep=\"\")\n",
    "    rownames(Rnew) <- colnames(x)\n",
    "    colnames(Rnew) <- paste(colnames(x), \"\", sep=\"\")\n",
    "    \n",
    "    ## remove upper triangle of correlation matrix\n",
    "    if(removeTriangle[1]==\"upper\"){\n",
    "      Rnew <- as.matrix(Rnew)\n",
    "      Rnew[upper.tri(Rnew, diag = TRUE)] <- \"\"\n",
    "      Rnew <- as.data.frame(Rnew)\n",
    "    }\n",
    "    \n",
    "    ## remove lower triangle of correlation matrix\n",
    "    else if(removeTriangle[1]==\"lower\"){\n",
    "      Rnew <- as.matrix(Rnew)\n",
    "      Rnew[lower.tri(Rnew, diag = TRUE)] <- \"\"\n",
    "      Rnew <- as.data.frame(Rnew)\n",
    "    }\n",
    "    \n",
    "    ## remove last column and return the correlation matrix\n",
    "    Rnew <- cbind(Rnew[1:length(Rnew)-1])\n",
    "    if (result[1]==\"none\") return(Rnew)\n",
    "    else{\n",
    "      if(result[1]==\"html\") print(xtable(Rnew), type=\"html\")\n",
    "      else print(xtable(Rnew), type=\"latex\") \n",
    "    }\n",
    "}"
   ]
  },
  {
   "cell_type": "code",
   "execution_count": 17,
   "metadata": {
    "vscode": {
     "languageId": "r"
    }
   },
   "outputs": [
    {
     "ename": "ERROR",
     "evalue": "Error in `[.data.frame`(df, , c(\"Age\", \"Height\", \"Weight\", \"BMI\", \"Sex\", : undefined columns selected\n",
     "output_type": "error",
     "traceback": [
      "Error in `[.data.frame`(df, , c(\"Age\", \"Height\", \"Weight\", \"BMI\", \"Sex\", : undefined columns selected\nTraceback:\n",
      "1. df[, c(\"Age\", \"Height\", \"Weight\", \"BMI\", \"Sex\", \"GT\", \"GPH_TScore\", \n .     \"GMH_TScore\", \"totalMET\", \"avgPEM\", \"avgAAM\", \"falling_1\", \n .     \"falling_2\", \"totalSEE\", \"OA_check\", \"totalWOMAC\", \"Fall_YN\", \n .     \"falls\", \"time\", \"right_ankle_max\", \"right_ankle_min\", \"right_knee_max\", \n .     \"right_knee_min\", \"right_hip_max\", \"right_hip_min\", \"trunk_lean_max\", \n .     \"trunk_lean_ang_acc\", \"pelvic_max_y_acc\")]",
      "2. `[.data.frame`(df, , c(\"Age\", \"Height\", \"Weight\", \"BMI\", \"Sex\", \n .     \"GT\", \"GPH_TScore\", \"GMH_TScore\", \"totalMET\", \"avgPEM\", \"avgAAM\", \n .     \"falling_1\", \"falling_2\", \"totalSEE\", \"OA_check\", \"totalWOMAC\", \n .     \"Fall_YN\", \"falls\", \"time\", \"right_ankle_max\", \"right_ankle_min\", \n .     \"right_knee_max\", \"right_knee_min\", \"right_hip_max\", \"right_hip_min\", \n .     \"trunk_lean_max\", \"trunk_lean_ang_acc\", \"pelvic_max_y_acc\"))",
      "3. stop(\"undefined columns selected\")"
     ]
    }
   ],
   "source": [
    "df_corr <- df[, c(\"Age\", \"Height\", \"Weight\", \"BMI\", \"Sex\", \"GT\", \"GPH_TScore\", \"GMH_TScore\", \"totalMET\", \"avgPEM\", \"avgAAM\", \"falling_1\", \"falling_2\", \"totalSEE\", \"OA_check\", \"totalWOMAC\", \"Fall_YN\", \"falls\", \"time\", \"right_ankle_max\",\"right_ankle_min\", \"right_knee_max\",\"right_knee_min\", \"right_hip_max\",\"right_hip_min\", \"trunk_lean_max\", \"trunk_lean_ang_acc\", \"pelvic_max_y_acc\")]\n",
    "print(\"Variable name legend\")\n",
    "print(\"GPH_TScore: Global physical health t-score\")\n",
    "print(\"GMH_TScore: Global mental health t-score\")\n",
    "print(\"OA_check: Whether the individual has osteoarthritis (1) or not (0)\")"
   ]
  },
  {
   "cell_type": "code",
   "execution_count": 8,
   "metadata": {
    "vscode": {
     "languageId": "r"
    }
   },
   "outputs": [],
   "source": [
    "df_age50plus <- filter(df, ageGroup == \"[50-80+\")"
   ]
  },
  {
   "cell_type": "code",
   "execution_count": 9,
   "metadata": {
    "vscode": {
     "languageId": "r"
    }
   },
   "outputs": [
    {
     "data": {
      "text/plain": [
       "df.descr \n",
       "\n",
       " 8  Variables      405  Observations\n",
       "--------------------------------------------------------------------------------\n",
       "Age \n",
       "       n  missing distinct     Info     Mean      Gmd      .05      .10 \n",
       "     405        0       65    0.998    37.29    18.78     20.0     21.4 \n",
       "     .25      .50      .75      .90      .95 \n",
       "    24.0     29.0     51.0     65.6     71.8 \n",
       "\n",
       "lowest : 18 19 20 21 22, highest: 83 84 92 94 96\n",
       "--------------------------------------------------------------------------------\n",
       "Sex \n",
       "       n  missing distinct     Info      Sum     Mean      Gmd \n",
       "     405        0        2    0.748      214   0.5284   0.4996 \n",
       "\n",
       "--------------------------------------------------------------------------------\n",
       "Height \n",
       "       n  missing distinct     Info     Mean      Gmd      .05      .10 \n",
       "     405        0       22    0.994    67.35    4.526     62.0     62.0 \n",
       "     .25      .50      .75      .90      .95 \n",
       "    64.0     67.0     70.0     73.0     73.8 \n",
       "\n",
       "lowest : 55 56 57 59 60, highest: 73 74 75 76 77\n",
       "--------------------------------------------------------------------------------\n",
       "Weight \n",
       "       n  missing distinct     Info     Mean      Gmd      .05      .10 \n",
       "     405        0      109    0.999    157.6    37.87    110.0    119.4 \n",
       "     .25      .50      .75      .90      .95 \n",
       "   130.0    154.3    180.0    205.0    219.6 \n",
       "\n",
       "lowest : 70   92.6 95   99   100 , highest: 250  252  260  270  280 \n",
       "--------------------------------------------------------------------------------\n",
       "BMI \n",
       "       n  missing distinct     Info     Mean      Gmd      .05      .10 \n",
       "     405        0      286        1    24.28    4.357    19.06    19.76 \n",
       "     .25      .50      .75      .90      .95 \n",
       "   21.48    23.67    26.00    29.87    32.34 \n",
       "\n",
       "lowest : 16.2678 17.4947 17.7123 17.719  18.0096\n",
       "highest: 37.302  37.4909 38.3123 40.1616 41.0489\n",
       "--------------------------------------------------------------------------------\n",
       "OA_check \n",
       "       n  missing distinct     Info      Sum     Mean      Gmd \n",
       "     405        0        2    0.206       30  0.07407   0.1375 \n",
       "\n",
       "--------------------------------------------------------------------------------\n",
       "GPH_TScore \n",
       "       n  missing distinct     Info     Mean      Gmd      .05      .10 \n",
       "     405        0       12    0.964    54.86    7.193     44.9     47.7 \n",
       "     .25      .50      .75      .90      .95 \n",
       "    50.8     54.1     57.7     61.9     67.7 \n",
       "                                                                            \n",
       "Value       32.4  34.9  37.4  39.8  42.3  44.9  47.7  50.8  54.1  57.7  61.9\n",
       "Frequency      3     2     3     4     8    12    38    67    74   112    57\n",
       "Proportion 0.007 0.005 0.007 0.010 0.020 0.030 0.094 0.165 0.183 0.277 0.141\n",
       "                \n",
       "Value       67.7\n",
       "Frequency     25\n",
       "Proportion 0.062\n",
       "\n",
       "For the frequency table, variable is rounded to the nearest 0\n",
       "--------------------------------------------------------------------------------\n",
       "GMH_TScore \n",
       "       n  missing distinct     Info     Mean      Gmd      .05      .10 \n",
       "     405        0       15    0.985    52.95    8.172     38.8     43.5 \n",
       "     .25      .50      .75      .90      .95 \n",
       "    48.3     53.3     56.0     62.5     67.6 \n",
       "                                                                            \n",
       "Value       28.4  31.3  33.8  36.3  38.8  41.1  43.5  45.8  48.3  50.8  53.3\n",
       "Frequency      1     1     2     8    11     8    17    33    34    54    75\n",
       "Proportion 0.002 0.002 0.005 0.020 0.027 0.020 0.042 0.081 0.084 0.133 0.185\n",
       "                                  \n",
       "Value       56.0  59.0  62.5  67.6\n",
       "Frequency     60    43    35    23\n",
       "Proportion 0.148 0.106 0.086 0.057\n",
       "\n",
       "For the frequency table, variable is rounded to the nearest 0\n",
       "--------------------------------------------------------------------------------"
      ]
     },
     "metadata": {},
     "output_type": "display_data"
    },
    {
     "data": {
      "text/plain": [
       "df_age50plus.descr \n",
       "\n",
       " 8  Variables      106  Observations\n",
       "--------------------------------------------------------------------------------\n",
       "Age \n",
       "       n  missing distinct     Info     Mean      Gmd      .05      .10 \n",
       "     106        0       35    0.998    64.07    11.55    51.00    53.00 \n",
       "     .25      .50      .75      .90      .95 \n",
       "   56.00    62.00    69.75    80.00    81.75 \n",
       "\n",
       "lowest : 50 51 52 53 54, highest: 83 84 92 94 96\n",
       "--------------------------------------------------------------------------------\n",
       "Sex \n",
       "       n  missing distinct     Info      Sum     Mean      Gmd \n",
       "     106        0        2    0.743       58   0.5472   0.5003 \n",
       "\n",
       "--------------------------------------------------------------------------------\n",
       "Height \n",
       "       n  missing distinct     Info     Mean      Gmd      .05      .10 \n",
       "     106        0       17    0.992    66.54    4.325    61.00    62.00 \n",
       "     .25      .50      .75      .90      .95 \n",
       "   64.00    66.50    70.00    71.50    72.75 \n",
       "                                                                            \n",
       "Value         55    59    60    61    62    63    64    65    66    67    68\n",
       "Frequency      1     2     2     3     8     7    14     5    11     9     8\n",
       "Proportion 0.009 0.019 0.019 0.028 0.075 0.066 0.132 0.047 0.104 0.085 0.075\n",
       "                                              \n",
       "Value         69    70    71    72    73    75\n",
       "Frequency      8    13     4     5     5     1\n",
       "Proportion 0.075 0.123 0.038 0.047 0.047 0.009\n",
       "\n",
       "For the frequency table, variable is rounded to the nearest 0\n",
       "--------------------------------------------------------------------------------\n",
       "Weight \n",
       "       n  missing distinct     Info     Mean      Gmd      .05      .10 \n",
       "     106        0       65    0.999    163.7    39.37    115.0    121.5 \n",
       "     .25      .50      .75      .90      .95 \n",
       "   135.2    160.0    188.8    208.0    223.2 \n",
       "\n",
       "lowest : 101 105 107 110 114, highest: 225 230 234 245 260\n",
       "--------------------------------------------------------------------------------\n",
       "BMI \n",
       "       n  missing distinct     Info     Mean      Gmd      .05      .10 \n",
       "     106        0       98        1    25.87    5.024    19.84    20.59 \n",
       "     .25      .50      .75      .90      .95 \n",
       "   22.34    25.71    28.23    32.04    34.12 \n",
       "\n",
       "lowest : 18.5979 18.8794 19.1349 19.3684 19.5684\n",
       "highest: 35.15   36.0425 37.302  37.4909 40.1616\n",
       "--------------------------------------------------------------------------------\n",
       "OA_check \n",
       "       n  missing distinct     Info      Sum     Mean      Gmd \n",
       "     106        0        2    0.596       29   0.2736   0.4013 \n",
       "\n",
       "--------------------------------------------------------------------------------\n",
       "GPH_TScore \n",
       "       n  missing distinct     Info     Mean      Gmd      .05      .10 \n",
       "     106        0       12     0.97    53.27     7.74     42.3     44.9 \n",
       "     .25      .50      .75      .90      .95 \n",
       "    50.8     54.1     57.7     61.9     67.7 \n",
       "                                                                            \n",
       "Value       32.4  34.9  37.4  39.8  42.3  44.9  47.7  50.8  54.1  57.7  61.9\n",
       "Frequency      1     1     2     1     4     6    10    20    24    23     7\n",
       "Proportion 0.009 0.009 0.019 0.009 0.038 0.057 0.094 0.189 0.226 0.217 0.066\n",
       "                \n",
       "Value       67.7\n",
       "Frequency      7\n",
       "Proportion 0.066\n",
       "\n",
       "For the frequency table, variable is rounded to the nearest 0\n",
       "--------------------------------------------------------------------------------\n",
       "GMH_TScore \n",
       "       n  missing distinct     Info     Mean      Gmd      .05      .10 \n",
       "     106        0       11    0.984    54.62     7.94     43.5     45.8 \n",
       "     .25      .50      .75      .90      .95 \n",
       "    50.8     53.3     59.0     62.5     67.6 \n",
       "                                                                            \n",
       "Value       38.8  41.1  43.5  45.8  48.3  50.8  53.3  56.0  59.0  62.5  67.6\n",
       "Frequency      1     2     7     6     7    15    17    18    11    12    10\n",
       "Proportion 0.009 0.019 0.066 0.057 0.066 0.142 0.160 0.170 0.104 0.113 0.094\n",
       "\n",
       "For the frequency table, variable is rounded to the nearest 0\n",
       "--------------------------------------------------------------------------------"
      ]
     },
     "metadata": {},
     "output_type": "display_data"
    }
   ],
   "source": [
    "# Removed subjects\n",
    "#df_removed <- df_all[! df_all_text$subjectid %in% df_text$subjectid,]\n",
    "\n",
    "# Simple data frames\n",
    "df.descr <- df[, c(\"Age\", \"Sex\", \"Height\", \"Weight\", \"BMI\", \"OA_check\", \"GPH_TScore\", \"GMH_TScore\")]\n",
    "df_age50plus.descr <-df_age50plus[, c(\"Age\", \"Sex\", \"Height\", \"Weight\", \"BMI\", \"OA_check\", \"GPH_TScore\", \"GMH_TScore\")]\n",
    "\n",
    "describe(df.descr)\n",
    "describe(df_age50plus.descr)"
   ]
  },
  {
   "cell_type": "code",
   "execution_count": 10,
   "metadata": {
    "vscode": {
     "languageId": "r"
    }
   },
   "outputs": [
    {
     "data": {
      "text/plain": [
       "   Length     Class      Mode \n",
       "      405 character character "
      ]
     },
     "metadata": {},
     "output_type": "display_data"
    }
   ],
   "source": [
    "summary(df$ageGroup)"
   ]
  },
  {
   "cell_type": "code",
   "execution_count": 11,
   "metadata": {
    "vscode": {
     "languageId": "r"
    }
   },
   "outputs": [
    {
     "data": {
      "text/plain": [
       "   Min. 1st Qu.  Median    Mean 3rd Qu.    Max. \n",
       "  4.274   9.142  11.100  11.399  13.397  32.875 "
      ]
     },
     "metadata": {},
     "output_type": "display_data"
    },
    {
     "data": {
      "text/html": [
       "3.4381983342072"
      ],
      "text/latex": [
       "3.4381983342072"
      ],
      "text/markdown": [
       "3.4381983342072"
      ],
      "text/plain": [
       "[1] 3.438198"
      ]
     },
     "metadata": {},
     "output_type": "display_data"
    },
    {
     "data": {
      "text/plain": [
       "$`[50-80+`\n",
       "   Min. 1st Qu.  Median    Mean 3rd Qu.    Max. \n",
       "  5.042  10.508  12.873  13.162  15.403  32.875 \n",
       "\n",
       "$`18-50)`\n",
       "   Min. 1st Qu.  Median    Mean 3rd Qu.    Max. \n",
       "  4.274   8.558  10.663  10.775  12.727  19.042 \n"
      ]
     },
     "metadata": {},
     "output_type": "display_data"
    },
    {
     "data": {
      "text/html": [
       "<style>\n",
       ".dl-inline {width: auto; margin:0; padding: 0}\n",
       ".dl-inline>dt, .dl-inline>dd {float: none; width: auto; display: inline-block}\n",
       ".dl-inline>dt::after {content: \":\\0020\"; padding-right: .5ex}\n",
       ".dl-inline>dt:not(:first-of-type) {padding-left: .5ex}\n",
       "</style><dl class=dl-inline><dt>[50-80+</dt><dd>4.29199710854277</dd><dt>18-50)</dt><dd>2.83526640637373</dd></dl>\n"
      ],
      "text/latex": [
       "\\begin{description*}\n",
       "\\item[\\{{[}\\}50-80+] 4.29199710854277\n",
       "\\item[18-50)] 2.83526640637373\n",
       "\\end{description*}\n"
      ],
      "text/markdown": [
       "[50-80+\n",
       ":   4.2919971085427718-50)\n",
       ":   2.83526640637373\n",
       "\n"
      ],
      "text/plain": [
       " [50-80+   18-50) \n",
       "4.291997 2.835266 "
      ]
     },
     "metadata": {},
     "output_type": "display_data"
    },
    {
     "data": {
      "text/plain": [
       "\n",
       "\tWelch Two Sample t-test\n",
       "\n",
       "data:  df$time[row(df)[which(df$ageGroup == \"18-50)\")]] and df$time[row(df)[which(df$ageGroup == \"[50-80+\")]]\n",
       "t = -5.3292, df = 138.83, p-value = 3.891e-07\n",
       "alternative hypothesis: true difference in means is not equal to 0\n",
       "95 percent confidence interval:\n",
       " -3.272994 -1.501571\n",
       "sample estimates:\n",
       "mean of x mean of y \n",
       " 10.77467  13.16195 \n"
      ]
     },
     "metadata": {},
     "output_type": "display_data"
    },
    {
     "data": {
      "text/html": [
       "<style>\n",
       ".list-inline {list-style: none; margin:0; padding: 0}\n",
       ".list-inline>li {display: inline-block}\n",
       ".list-inline>li:not(:last-child)::after {content: \"\\00b7\"; padding: 0 .5ex}\n",
       "</style>\n",
       "<ol class=list-inline><li>-3.27299399957506</li><li>-1.50157080559677</li></ol>\n"
      ],
      "text/latex": [
       "\\begin{enumerate*}\n",
       "\\item -3.27299399957506\n",
       "\\item -1.50157080559677\n",
       "\\end{enumerate*}\n"
      ],
      "text/markdown": [
       "1. -3.27299399957506\n",
       "2. -1.50157080559677\n",
       "\n",
       "\n"
      ],
      "text/plain": [
       "[1] -3.272994 -1.501571\n",
       "attr(,\"conf.level\")\n",
       "[1] 0.95"
      ]
     },
     "metadata": {},
     "output_type": "display_data"
    },
    {
     "data": {
      "image/png": "[encoded data removed]",
      "text/plain": [
       "plot without title"
      ]
     },
     "metadata": {
      "image/png": {
       "height": 420,
       "width": 420
      }
     },
     "output_type": "display_data"
    }
   ],
   "source": [
    "# 18+\n",
    "summary(df$time)\n",
    "# Standard deviation\n",
    "sd(df$time)\n",
    "# Age bins\n",
    "tapply(df$time, df$ageGroup, summary)\n",
    "# Standard deviation\n",
    "tapply(df$time, df$ageGroup, sd)\n",
    "\n",
    "# T-tests\n",
    "x <- t.test(df$time[row(df)[which(df$ageGroup == \"18-50)\")]], df$time[row(df)[which(df$ageGroup == \"[50-80+\")]])\n",
    "x\n",
    "x$conf.int\n",
    "\n",
    "# Box Plot\n",
    "TimeAgeGroup <- tapply(df$time, df$ageGroup, summary)\n",
    "boxplot(TimeAgeGroup, xlab=\"Age Group\", ylab=\"Time\")"
   ]
  },
  {
   "cell_type": "code",
   "execution_count": 23,
   "metadata": {
    "vscode": {
     "languageId": "r"
    }
   },
   "outputs": [
    {
     "data": {
      "text/html": [
       "<table class=\"dataframe\">\n",
       "<caption>A data.frame: 11 × 10</caption>\n",
       "<thead>\n",
       "\t<tr><th></th><th scope=col>time</th><th scope=col>right_knee_max_mean</th><th scope=col>trunk_lean_max_ang_acc_sit2stand</th><th scope=col>Age</th><th scope=col>Sex</th><th scope=col>BMI</th><th scope=col>EthBin</th><th scope=col>GPH_TScore</th><th scope=col>GMH_TScore</th><th scope=col>OA_check</th></tr>\n",
       "\t<tr><th></th><th scope=col>&lt;chr&gt;</th><th scope=col>&lt;chr&gt;</th><th scope=col>&lt;chr&gt;</th><th scope=col>&lt;chr&gt;</th><th scope=col>&lt;chr&gt;</th><th scope=col>&lt;chr&gt;</th><th scope=col>&lt;chr&gt;</th><th scope=col>&lt;chr&gt;</th><th scope=col>&lt;chr&gt;</th><th scope=col>&lt;chr&gt;</th></tr>\n",
       "</thead>\n",
       "<tbody>\n",
       "\t<tr><th scope=row>time</th><td>         </td><td>         </td><td>         </td><td>         </td><td>         </td><td>         </td><td>         </td><td>         </td><td>         </td><td>         </td></tr>\n",
       "\t<tr><th scope=row>right_knee_max_mean</th><td> 0.21****</td><td>         </td><td>         </td><td>         </td><td>         </td><td>         </td><td>         </td><td>         </td><td>         </td><td>         </td></tr>\n",
       "\t<tr><th scope=row>trunk_lean_max_ang_acc_sit2stand</th><td>-0.13**  </td><td>-0.10*   </td><td>         </td><td>         </td><td>         </td><td>         </td><td>         </td><td>         </td><td>         </td><td>         </td></tr>\n",
       "\t<tr><th scope=row>Age</th><td> 0.23****</td><td>-0.16**  </td><td>-0.03    </td><td>         </td><td>         </td><td>         </td><td>         </td><td>         </td><td>         </td><td>         </td></tr>\n",
       "\t<tr><th scope=row>Sex</th><td> 0.01    </td><td> 0.04    </td><td> 0.06    </td><td> 0.05    </td><td>         </td><td>         </td><td>         </td><td>         </td><td>         </td><td>         </td></tr>\n",
       "\t<tr><th scope=row>BMI</th><td> 0.17*** </td><td>-0.05    </td><td>-0.03    </td><td> 0.23****</td><td>-0.26****</td><td>         </td><td>         </td><td>         </td><td>         </td><td>         </td></tr>\n",
       "\t<tr><th scope=row>EthBin</th><td> 0.06    </td><td> 0.06    </td><td> 0.01    </td><td> 0.21****</td><td>-0.04    </td><td> 0.19*** </td><td>         </td><td>         </td><td>         </td><td>         </td></tr>\n",
       "\t<tr><th scope=row>GPH_TScore</th><td>-0.14**  </td><td> 0.05    </td><td> 0.01    </td><td>-0.13**  </td><td>-0.07    </td><td>-0.14**  </td><td> 0.09    </td><td>         </td><td>         </td><td>         </td></tr>\n",
       "\t<tr><th scope=row>GMH_TScore</th><td> 0.00    </td><td> 0.01    </td><td> 0.03    </td><td> 0.17*** </td><td>-0.11*   </td><td>-0.08    </td><td> 0.08    </td><td> 0.51****</td><td>         </td><td>         </td></tr>\n",
       "\t<tr><th scope=row>OA_check</th><td> 0.15**  </td><td>-0.11*   </td><td> 0.05    </td><td> 0.38****</td><td>-0.02    </td><td> 0.14**  </td><td> 0.13*   </td><td>-0.04    </td><td> 0.12*   </td><td>         </td></tr>\n",
       "\t<tr><th scope=row>Fall_YN</th><td> 0.10*   </td><td>-0.01    </td><td> 0.00    </td><td> 0.04    </td><td> 0.06    </td><td>-0.02    </td><td>-0.05    </td><td>-0.15**  </td><td>-0.03    </td><td> 0.08    </td></tr>\n",
       "</tbody>\n",
       "</table>\n"
      ],
      "text/latex": [
       "A data.frame: 11 × 10\n",
       "\\begin{tabular}{r|llllllllll}\n",
       "  & time & right\\_knee\\_max\\_mean & trunk\\_lean\\_max\\_ang\\_acc\\_sit2stand & Age & Sex & BMI & EthBin & GPH\\_TScore & GMH\\_TScore & OA\\_check\\\\\n",
       "  & <chr> & <chr> & <chr> & <chr> & <chr> & <chr> & <chr> & <chr> & <chr> & <chr>\\\\\n",
       "\\hline\n",
       "\ttime &           &           &           &           &           &           &           &           &           &          \\\\\n",
       "\tright\\_knee\\_max\\_mean &  0.21**** &           &           &           &           &           &           &           &           &          \\\\\n",
       "\ttrunk\\_lean\\_max\\_ang\\_acc\\_sit2stand & -0.13**   & -0.10*    &           &           &           &           &           &           &           &          \\\\\n",
       "\tAge &  0.23**** & -0.16**   & -0.03     &           &           &           &           &           &           &          \\\\\n",
       "\tSex &  0.01     &  0.04     &  0.06     &  0.05     &           &           &           &           &           &          \\\\\n",
       "\tBMI &  0.17***  & -0.05     & -0.03     &  0.23**** & -0.26**** &           &           &           &           &          \\\\\n",
       "\tEthBin &  0.06     &  0.06     &  0.01     &  0.21**** & -0.04     &  0.19***  &           &           &           &          \\\\\n",
       "\tGPH\\_TScore & -0.14**   &  0.05     &  0.01     & -0.13**   & -0.07     & -0.14**   &  0.09     &           &           &          \\\\\n",
       "\tGMH\\_TScore &  0.00     &  0.01     &  0.03     &  0.17***  & -0.11*    & -0.08     &  0.08     &  0.51**** &           &          \\\\\n",
       "\tOA\\_check &  0.15**   & -0.11*    &  0.05     &  0.38**** & -0.02     &  0.14**   &  0.13*    & -0.04     &  0.12*    &          \\\\\n",
       "\tFall\\_YN &  0.10*    & -0.01     &  0.00     &  0.04     &  0.06     & -0.02     & -0.05     & -0.15**   & -0.03     &  0.08    \\\\\n",
       "\\end{tabular}\n"
      ],
      "text/markdown": [
       "\n",
       "A data.frame: 11 × 10\n",
       "\n",
       "| <!--/--> | time &lt;chr&gt; | right_knee_max_mean &lt;chr&gt; | trunk_lean_max_ang_acc_sit2stand &lt;chr&gt; | Age &lt;chr&gt; | Sex &lt;chr&gt; | BMI &lt;chr&gt; | EthBin &lt;chr&gt; | GPH_TScore &lt;chr&gt; | GMH_TScore &lt;chr&gt; | OA_check &lt;chr&gt; |\n",
       "|---|---|---|---|---|---|---|---|---|---|---|\n",
       "| time | <!----> | <!----> | <!----> | <!----> | <!----> | <!----> | <!----> | <!----> | <!----> | <!----> |\n",
       "| right_knee_max_mean |  0.21**** | <!----> | <!----> | <!----> | <!----> | <!----> | <!----> | <!----> | <!----> | <!----> |\n",
       "| trunk_lean_max_ang_acc_sit2stand | -0.13**   | -0.10*    | <!----> | <!----> | <!----> | <!----> | <!----> | <!----> | <!----> | <!----> |\n",
       "| Age |  0.23**** | -0.16**   | -0.03     | <!----> | <!----> | <!----> | <!----> | <!----> | <!----> | <!----> |\n",
       "| Sex |  0.01     |  0.04     |  0.06     |  0.05     | <!----> | <!----> | <!----> | <!----> | <!----> | <!----> |\n",
       "| BMI |  0.17***  | -0.05     | -0.03     |  0.23**** | -0.26**** | <!----> | <!----> | <!----> | <!----> | <!----> |\n",
       "| EthBin |  0.06     |  0.06     |  0.01     |  0.21**** | -0.04     |  0.19***  | <!----> | <!----> | <!----> | <!----> |\n",
       "| GPH_TScore | -0.14**   |  0.05     |  0.01     | -0.13**   | -0.07     | -0.14**   |  0.09     | <!----> | <!----> | <!----> |\n",
       "| GMH_TScore |  0.00     |  0.01     |  0.03     |  0.17***  | -0.11*    | -0.08     |  0.08     |  0.51**** | <!----> | <!----> |\n",
       "| OA_check |  0.15**   | -0.11*    |  0.05     |  0.38**** | -0.02     |  0.14**   |  0.13*    | -0.04     |  0.12*    | <!----> |\n",
       "| Fall_YN |  0.10*    | -0.01     |  0.00     |  0.04     |  0.06     | -0.02     | -0.05     | -0.15**   | -0.03     |  0.08     |\n",
       "\n"
      ],
      "text/plain": [
       "                                 time      right_knee_max_mean\n",
       "time                                                          \n",
       "right_knee_max_mean               0.21****                    \n",
       "trunk_lean_max_ang_acc_sit2stand -0.13**   -0.10*             \n",
       "Age                               0.23**** -0.16**            \n",
       "Sex                               0.01      0.04              \n",
       "BMI                               0.17***  -0.05              \n",
       "EthBin                            0.06      0.06              \n",
       "GPH_TScore                       -0.14**    0.05              \n",
       "GMH_TScore                        0.00      0.01              \n",
       "OA_check                          0.15**   -0.11*             \n",
       "Fall_YN                           0.10*    -0.01              \n",
       "                                 trunk_lean_max_ang_acc_sit2stand Age      \n",
       "time                                                                       \n",
       "right_knee_max_mean                                                        \n",
       "trunk_lean_max_ang_acc_sit2stand                                           \n",
       "Age                              -0.03                                     \n",
       "Sex                               0.06                             0.05    \n",
       "BMI                              -0.03                             0.23****\n",
       "EthBin                            0.01                             0.21****\n",
       "GPH_TScore                        0.01                            -0.13**  \n",
       "GMH_TScore                        0.03                             0.17*** \n",
       "OA_check                          0.05                             0.38****\n",
       "Fall_YN                           0.00                             0.04    \n",
       "                                 Sex       BMI       EthBin    GPH_TScore\n",
       "time                                                                     \n",
       "right_knee_max_mean                                                      \n",
       "trunk_lean_max_ang_acc_sit2stand                                         \n",
       "Age                                                                      \n",
       "Sex                                                                      \n",
       "BMI                              -0.26****                               \n",
       "EthBin                           -0.04      0.19***                      \n",
       "GPH_TScore                       -0.07     -0.14**    0.09               \n",
       "GMH_TScore                       -0.11*    -0.08      0.08      0.51**** \n",
       "OA_check                         -0.02      0.14**    0.13*    -0.04     \n",
       "Fall_YN                           0.06     -0.02     -0.05     -0.15**   \n",
       "                                 GMH_TScore OA_check \n",
       "time                                                 \n",
       "right_knee_max_mean                                  \n",
       "trunk_lean_max_ang_acc_sit2stand                     \n",
       "Age                                                  \n",
       "Sex                                                  \n",
       "BMI                                                  \n",
       "EthBin                                               \n",
       "GPH_TScore                                           \n",
       "GMH_TScore                                           \n",
       "OA_check                          0.12*              \n",
       "Fall_YN                          -0.03       0.08    "
      ]
     },
     "metadata": {},
     "output_type": "display_data"
    },
    {
     "data": {
      "text/html": [
       "<table class=\"dataframe\">\n",
       "<caption>A data.frame: 7 × 6</caption>\n",
       "<thead>\n",
       "\t<tr><th></th><th scope=col>time</th><th scope=col>right_knee_max_mean</th><th scope=col>trunk_lean_max_ang_acc_sit2stand</th><th scope=col>GPH_TScore</th><th scope=col>GMH_TScore</th><th scope=col>OA_check</th></tr>\n",
       "\t<tr><th></th><th scope=col>&lt;chr&gt;</th><th scope=col>&lt;chr&gt;</th><th scope=col>&lt;chr&gt;</th><th scope=col>&lt;chr&gt;</th><th scope=col>&lt;chr&gt;</th><th scope=col>&lt;chr&gt;</th></tr>\n",
       "</thead>\n",
       "<tbody>\n",
       "\t<tr><th scope=row>time</th><td>         </td><td>         </td><td>         </td><td>         </td><td>         </td><td>         </td></tr>\n",
       "\t<tr><th scope=row>right_knee_max_mean</th><td> 0.20*   </td><td>         </td><td>         </td><td>         </td><td>         </td><td>         </td></tr>\n",
       "\t<tr><th scope=row>trunk_lean_max_ang_acc_sit2stand</th><td>-0.20*   </td><td>-0.19    </td><td>         </td><td>         </td><td>         </td><td>         </td></tr>\n",
       "\t<tr><th scope=row>GPH_TScore</th><td>-0.29**  </td><td> 0.05    </td><td> 0.13    </td><td>         </td><td>         </td><td>         </td></tr>\n",
       "\t<tr><th scope=row>GMH_TScore</th><td>-0.08    </td><td> 0.04    </td><td> 0.33*** </td><td> 0.46****</td><td>         </td><td>         </td></tr>\n",
       "\t<tr><th scope=row>OA_check</th><td> 0.09    </td><td>-0.08    </td><td> 0.12    </td><td> 0.05    </td><td> 0.14    </td><td>         </td></tr>\n",
       "\t<tr><th scope=row>Fall_YN</th><td> 0.26**  </td><td>-0.18    </td><td> 0.04    </td><td>-0.11    </td><td> 0.05    </td><td> 0.10    </td></tr>\n",
       "</tbody>\n",
       "</table>\n"
      ],
      "text/latex": [
       "A data.frame: 7 × 6\n",
       "\\begin{tabular}{r|llllll}\n",
       "  & time & right\\_knee\\_max\\_mean & trunk\\_lean\\_max\\_ang\\_acc\\_sit2stand & GPH\\_TScore & GMH\\_TScore & OA\\_check\\\\\n",
       "  & <chr> & <chr> & <chr> & <chr> & <chr> & <chr>\\\\\n",
       "\\hline\n",
       "\ttime &           &           &           &           &           &          \\\\\n",
       "\tright\\_knee\\_max\\_mean &  0.20*    &           &           &           &           &          \\\\\n",
       "\ttrunk\\_lean\\_max\\_ang\\_acc\\_sit2stand & -0.20*    & -0.19     &           &           &           &          \\\\\n",
       "\tGPH\\_TScore & -0.29**   &  0.05     &  0.13     &           &           &          \\\\\n",
       "\tGMH\\_TScore & -0.08     &  0.04     &  0.33***  &  0.46**** &           &          \\\\\n",
       "\tOA\\_check &  0.09     & -0.08     &  0.12     &  0.05     &  0.14     &          \\\\\n",
       "\tFall\\_YN &  0.26**   & -0.18     &  0.04     & -0.11     &  0.05     &  0.10    \\\\\n",
       "\\end{tabular}\n"
      ],
      "text/markdown": [
       "\n",
       "A data.frame: 7 × 6\n",
       "\n",
       "| <!--/--> | time &lt;chr&gt; | right_knee_max_mean &lt;chr&gt; | trunk_lean_max_ang_acc_sit2stand &lt;chr&gt; | GPH_TScore &lt;chr&gt; | GMH_TScore &lt;chr&gt; | OA_check &lt;chr&gt; |\n",
       "|---|---|---|---|---|---|---|\n",
       "| time | <!----> | <!----> | <!----> | <!----> | <!----> | <!----> |\n",
       "| right_knee_max_mean |  0.20*    | <!----> | <!----> | <!----> | <!----> | <!----> |\n",
       "| trunk_lean_max_ang_acc_sit2stand | -0.20*    | -0.19     | <!----> | <!----> | <!----> | <!----> |\n",
       "| GPH_TScore | -0.29**   |  0.05     |  0.13     | <!----> | <!----> | <!----> |\n",
       "| GMH_TScore | -0.08     |  0.04     |  0.33***  |  0.46**** | <!----> | <!----> |\n",
       "| OA_check |  0.09     | -0.08     |  0.12     |  0.05     |  0.14     | <!----> |\n",
       "| Fall_YN |  0.26**   | -0.18     |  0.04     | -0.11     |  0.05     |  0.10     |\n",
       "\n"
      ],
      "text/plain": [
       "                                 time      right_knee_max_mean\n",
       "time                                                          \n",
       "right_knee_max_mean               0.20*                       \n",
       "trunk_lean_max_ang_acc_sit2stand -0.20*    -0.19              \n",
       "GPH_TScore                       -0.29**    0.05              \n",
       "GMH_TScore                       -0.08      0.04              \n",
       "OA_check                          0.09     -0.08              \n",
       "Fall_YN                           0.26**   -0.18              \n",
       "                                 trunk_lean_max_ang_acc_sit2stand GPH_TScore\n",
       "time                                                                        \n",
       "right_knee_max_mean                                                         \n",
       "trunk_lean_max_ang_acc_sit2stand                                            \n",
       "GPH_TScore                        0.13                                      \n",
       "GMH_TScore                        0.33***                          0.46**** \n",
       "OA_check                          0.12                             0.05     \n",
       "Fall_YN                           0.04                            -0.11     \n",
       "                                 GMH_TScore OA_check \n",
       "time                                                 \n",
       "right_knee_max_mean                                  \n",
       "trunk_lean_max_ang_acc_sit2stand                     \n",
       "GPH_TScore                                           \n",
       "GMH_TScore                                           \n",
       "OA_check                          0.14               \n",
       "Fall_YN                           0.05       0.10    "
      ]
     },
     "metadata": {},
     "output_type": "display_data"
    }
   ],
   "source": [
    "corstars(df[, c(\"time\", \"right_knee_max_mean\", \"trunk_lean_max_ang_acc_sit2stand\", \"Age\", \"Sex\", \"BMI\", \"EthBin\", \"GPH_TScore\", \"GMH_TScore\", \"OA_check\", \"Fall_YN\")])\n",
    "corstars(df_age50plus[, c(\"time\", \"right_knee_max_mean\", \"trunk_lean_max_ang_acc_sit2stand\", \"GPH_TScore\", \"GMH_TScore\", \"OA_check\", \"Fall_YN\")])"
   ]
  },
  {
   "cell_type": "code",
   "execution_count": 12,
   "metadata": {
    "vscode": {
     "languageId": "r"
    }
   },
   "outputs": [],
   "source": [
    "df_new <- df[, colnames(df[,sapply(df,is.numeric)])]"
   ]
  },
  {
   "cell_type": "code",
   "execution_count": 25,
   "metadata": {
    "vscode": {
     "languageId": "r"
    }
   },
   "outputs": [],
   "source": [
    "# drop <- c(\"ageBin\", \"ageGroup\")\n",
    "# df_new = df[, !(names(df) %in% drop)]\n",
    "R = corstars(df_new)\n",
    "# write.csv(R, \"stats/correlationMatrix.csv\")"
   ]
  },
  {
   "cell_type": "code",
   "execution_count": 13,
   "metadata": {
    "vscode": {
     "languageId": "r"
    }
   },
   "outputs": [
    {
     "data": {
      "text/plain": [
       "\u001b[4mMODEL INFO:\u001b[24m\n",
       "\u001b[3mObservations:\u001b[23m 405\n",
       "\u001b[3mDependent Variable:\u001b[23m df$GPH_TScore\n",
       "\u001b[3mType:\u001b[23m OLS linear regression \n",
       "\n",
       "\u001b[4mMODEL FIT:\u001b[24m\n",
       "\u001b[3mF\u001b[23m(4,400) = 8.294, \u001b[3mp\u001b[23m = 0.000\n",
       "\u001b[3mR² = \u001b[23m0.077\n",
       "\u001b[3mAdj. R² = \u001b[23m0.067 \n",
       "\n",
       "\u001b[3mStandard errors: OLS\u001b[23m\n",
       "-----------------------------------------------------------------\n",
       "                         Est.     2.5%    97.5%    t val.       p\n",
       "-------------------- -------- -------- -------- --------- -------\n",
       "(Intercept)            55.499   54.583   56.415   119.117   0.000\n",
       "scale(df$time)         -0.938   -1.610   -0.267    -2.747   0.006\n",
       "scale(df$Age)          -0.405   -1.079    0.269    -1.180   0.239\n",
       "df$Sex                 -1.209   -2.482    0.064    -1.866   0.063\n",
       "scale(df$BMI)          -1.108   -1.764   -0.451    -3.319   0.001\n",
       "-----------------------------------------------------------------"
      ]
     },
     "metadata": {},
     "output_type": "display_data"
    },
    {
     "data": {
      "text/html": [
       "<table class=\"dataframe\">\n",
       "<caption>A tibble: 4 × 6</caption>\n",
       "<thead>\n",
       "\t<tr><th scope=col>ethnicity</th><th scope=col>count</th><th scope=col>mean</th><th scope=col>sd</th><th scope=col>median</th><th scope=col>IQR</th></tr>\n",
       "\t<tr><th scope=col>&lt;fct&gt;</th><th scope=col>&lt;int&gt;</th><th scope=col>&lt;dbl&gt;</th><th scope=col>&lt;dbl&gt;</th><th scope=col>&lt;dbl&gt;</th><th scope=col>&lt;dbl&gt;</th></tr>\n",
       "</thead>\n",
       "<tbody>\n",
       "\t<tr><td>Asian   </td><td>103</td><td>197.5701</td><td>7.606600</td><td>197.1668</td><td> 9.110451</td></tr>\n",
       "\t<tr><td>Black   </td><td> 14</td><td>206.6525</td><td>9.526660</td><td>207.1344</td><td>11.491791</td></tr>\n",
       "\t<tr><td>Hispanic</td><td> 16</td><td>197.2712</td><td>4.648128</td><td>196.5225</td><td> 4.907014</td></tr>\n",
       "\t<tr><td>White   </td><td>243</td><td>201.6070</td><td>8.501176</td><td>199.8839</td><td> 9.542157</td></tr>\n",
       "</tbody>\n",
       "</table>\n"
      ],
      "text/latex": [
       "A tibble: 4 × 6\n",
       "\\begin{tabular}{llllll}\n",
       " ethnicity & count & mean & sd & median & IQR\\\\\n",
       " <fct> & <int> & <dbl> & <dbl> & <dbl> & <dbl>\\\\\n",
       "\\hline\n",
       "\t Asian    & 103 & 197.5701 & 7.606600 & 197.1668 &  9.110451\\\\\n",
       "\t Black    &  14 & 206.6525 & 9.526660 & 207.1344 & 11.491791\\\\\n",
       "\t Hispanic &  16 & 197.2712 & 4.648128 & 196.5225 &  4.907014\\\\\n",
       "\t White    & 243 & 201.6070 & 8.501176 & 199.8839 &  9.542157\\\\\n",
       "\\end{tabular}\n"
      ],
      "text/markdown": [
       "\n",
       "A tibble: 4 × 6\n",
       "\n",
       "| ethnicity &lt;fct&gt; | count &lt;int&gt; | mean &lt;dbl&gt; | sd &lt;dbl&gt; | median &lt;dbl&gt; | IQR &lt;dbl&gt; |\n",
       "|---|---|---|---|---|---|\n",
       "| Asian    | 103 | 197.5701 | 7.606600 | 197.1668 |  9.110451 |\n",
       "| Black    |  14 | 206.6525 | 9.526660 | 207.1344 | 11.491791 |\n",
       "| Hispanic |  16 | 197.2712 | 4.648128 | 196.5225 |  4.907014 |\n",
       "| White    | 243 | 201.6070 | 8.501176 | 199.8839 |  9.542157 |\n",
       "\n"
      ],
      "text/plain": [
       "  ethnicity count mean     sd       median   IQR      \n",
       "1 Asian     103   197.5701 7.606600 197.1668  9.110451\n",
       "2 Black      14   206.6525 9.526660 207.1344 11.491791\n",
       "3 Hispanic   16   197.2712 4.648128 196.5225  4.907014\n",
       "4 White     243   201.6070 8.501176 199.8839  9.542157"
      ]
     },
     "metadata": {},
     "output_type": "display_data"
    },
    {
     "data": {
      "text/plain": [
       "\n",
       "\tKruskal-Wallis rank sum test\n",
       "\n",
       "data:  trunk.lean by ethnicity\n",
       "Kruskal-Wallis chi-squared = 25.474, df = 3, p-value = 1.229e-05\n"
      ]
     },
     "metadata": {},
     "output_type": "display_data"
    },
    {
     "name": "stderr",
     "output_type": "stream",
     "text": [
      "Dunn (1964) Kruskal-Wallis multiple comparison\n",
      "\n",
      "  p-values adjusted with the Benjamini-Hochberg method.\n",
      "\n",
      "\n"
     ]
    },
    {
     "data": {
      "text/plain": [
       "        Comparison          Z      P.unadj        P.adj\n",
       "1    Asian - Black -3.6530798 2.591137e-04 0.0007773411\n",
       "2 Asian - Hispanic  0.1716145 8.637406e-01 0.8637406044\n",
       "3 Black - Hispanic  2.9693786 2.984027e-03 0.0059680543\n",
       "4    Asian - White -4.0248938 5.700102e-05 0.0003420061\n",
       "5    Black - White  2.0641531 3.900321e-02 0.0585048093\n",
       "6 Hispanic - White -2.0121872 4.420020e-02 0.0530402440"
      ]
     },
     "metadata": {},
     "output_type": "display_data"
    },
    {
     "data": {
      "text/plain": [
       "\n",
       "Call:\n",
       "glm(formula = df.eth.bin$ethnicity ~ scale(df.eth.bin$trunk.lean) + \n",
       "    scale(df.eth.bin$time) + scale(df.eth.bin$Age) + df.eth.bin$Sex + \n",
       "    scale(df.eth.bin$BMI) + scale(df.eth.bin$health))\n",
       "\n",
       "Coefficients:\n",
       "                             Estimate Std. Error t value Pr(>|t|)    \n",
       "(Intercept)                   0.29081    0.03370   8.630 2.42e-16 ***\n",
       "scale(df.eth.bin$trunk.lean) -0.08377    0.02348  -3.569 0.000411 ***\n",
       "scale(df.eth.bin$time)       -0.01848    0.02540  -0.728 0.467294    \n",
       "scale(df.eth.bin$Age)        -0.04323    0.02568  -1.683 0.093262 .  \n",
       "df.eth.bin$Sex                0.01308    0.04704   0.278 0.781108    \n",
       "scale(df.eth.bin$BMI)        -0.11378    0.02439  -4.665 4.45e-06 ***\n",
       "scale(df.eth.bin$health)     -0.08568    0.02372  -3.612 0.000350 ***\n",
       "---\n",
       "Signif. codes:  0 '***' 0.001 '**' 0.01 '*' 0.05 '.' 0.1 ' ' 1\n",
       "\n",
       "(Dispersion parameter for gaussian family taken to be 0.1810773)\n",
       "\n",
       "    Null deviance: 72.338  on 345  degrees of freedom\n",
       "Residual deviance: 61.385  on 339  degrees of freedom\n",
       "AIC: 399.58\n",
       "\n",
       "Number of Fisher Scoring iterations: 2\n"
      ]
     },
     "metadata": {},
     "output_type": "display_data"
    },
    {
     "name": "stderr",
     "output_type": "stream",
     "text": [
      "Waiting for profiling to be done...\n",
      "\n"
     ]
    },
    {
     "data": {
      "text/html": [
       "<table class=\"dataframe\">\n",
       "<caption>A matrix: 7 × 2 of type dbl</caption>\n",
       "<thead>\n",
       "\t<tr><th></th><th scope=col>2.5 %</th><th scope=col>97.5 %</th></tr>\n",
       "</thead>\n",
       "<tbody>\n",
       "\t<tr><th scope=row>(Intercept)</th><td> 0.22476060</td><td> 0.356853490</td></tr>\n",
       "\t<tr><th scope=row>scale(df.eth.bin$trunk.lean)</th><td>-0.12978499</td><td>-0.037762177</td></tr>\n",
       "\t<tr><th scope=row>scale(df.eth.bin$time)</th><td>-0.06827028</td><td> 0.031300844</td></tr>\n",
       "\t<tr><th scope=row>scale(df.eth.bin$Age)</th><td>-0.09357383</td><td> 0.007109319</td></tr>\n",
       "\t<tr><th scope=row>df.eth.bin$Sex</th><td>-0.07911190</td><td> 0.105274112</td></tr>\n",
       "\t<tr><th scope=row>scale(df.eth.bin$BMI)</th><td>-0.16158267</td><td>-0.065972614</td></tr>\n",
       "\t<tr><th scope=row>scale(df.eth.bin$health)</th><td>-0.13217881</td><td>-0.039188313</td></tr>\n",
       "</tbody>\n",
       "</table>\n"
      ],
      "text/latex": [
       "A matrix: 7 × 2 of type dbl\n",
       "\\begin{tabular}{r|ll}\n",
       "  & 2.5 \\% & 97.5 \\%\\\\\n",
       "\\hline\n",
       "\t(Intercept) &  0.22476060 &  0.356853490\\\\\n",
       "\tscale(df.eth.bin\\$trunk.lean) & -0.12978499 & -0.037762177\\\\\n",
       "\tscale(df.eth.bin\\$time) & -0.06827028 &  0.031300844\\\\\n",
       "\tscale(df.eth.bin\\$Age) & -0.09357383 &  0.007109319\\\\\n",
       "\tdf.eth.bin\\$Sex & -0.07911190 &  0.105274112\\\\\n",
       "\tscale(df.eth.bin\\$BMI) & -0.16158267 & -0.065972614\\\\\n",
       "\tscale(df.eth.bin\\$health) & -0.13217881 & -0.039188313\\\\\n",
       "\\end{tabular}\n"
      ],
      "text/markdown": [
       "\n",
       "A matrix: 7 × 2 of type dbl\n",
       "\n",
       "| <!--/--> | 2.5 % | 97.5 % |\n",
       "|---|---|---|\n",
       "| (Intercept) |  0.22476060 |  0.356853490 |\n",
       "| scale(df.eth.bin$trunk.lean) | -0.12978499 | -0.037762177 |\n",
       "| scale(df.eth.bin$time) | -0.06827028 |  0.031300844 |\n",
       "| scale(df.eth.bin$Age) | -0.09357383 |  0.007109319 |\n",
       "| df.eth.bin$Sex | -0.07911190 |  0.105274112 |\n",
       "| scale(df.eth.bin$BMI) | -0.16158267 | -0.065972614 |\n",
       "| scale(df.eth.bin$health) | -0.13217881 | -0.039188313 |\n",
       "\n"
      ],
      "text/plain": [
       "                             2.5 %       97.5 %      \n",
       "(Intercept)                   0.22476060  0.356853490\n",
       "scale(df.eth.bin$trunk.lean) -0.12978499 -0.037762177\n",
       "scale(df.eth.bin$time)       -0.06827028  0.031300844\n",
       "scale(df.eth.bin$Age)        -0.09357383  0.007109319\n",
       "df.eth.bin$Sex               -0.07911190  0.105274112\n",
       "scale(df.eth.bin$BMI)        -0.16158267 -0.065972614\n",
       "scale(df.eth.bin$health)     -0.13217881 -0.039188313"
      ]
     },
     "metadata": {},
     "output_type": "display_data"
    },
    {
     "data": {
      "text/html": [
       "<style>\n",
       ".dl-inline {width: auto; margin:0; padding: 0}\n",
       ".dl-inline>dt, .dl-inline>dd {float: none; width: auto; display: inline-block}\n",
       ".dl-inline>dt::after {content: \":\\0020\"; padding-right: .5ex}\n",
       ".dl-inline>dt:not(:first-of-type) {padding-left: .5ex}\n",
       "</style><dl class=dl-inline><dt>(Intercept)</dt><dd>1.33750648332693</dd><dt>scale(df.eth.bin$trunk.lean)</dt><dd>0.919639456141994</dd><dt>scale(df.eth.bin$time)</dt><dd>0.981685075722703</dd><dt>scale(df.eth.bin$Age)</dt><dd>0.95768893807437</dd><dt>df.eth.bin$Sex</dt><dd>1.01316704019819</dd><dt>scale(df.eth.bin$BMI)</dt><dd>0.892456377351334</dd><dt>scale(df.eth.bin$health)</dt><dd>0.917884640729495</dd></dl>\n"
      ],
      "text/latex": [
       "\\begin{description*}\n",
       "\\item[(Intercept)] 1.33750648332693\n",
       "\\item[scale(df.eth.bin\\textbackslash{}\\$trunk.lean)] 0.919639456141994\n",
       "\\item[scale(df.eth.bin\\textbackslash{}\\$time)] 0.981685075722703\n",
       "\\item[scale(df.eth.bin\\textbackslash{}\\$Age)] 0.95768893807437\n",
       "\\item[df.eth.bin\\textbackslash{}\\$Sex] 1.01316704019819\n",
       "\\item[scale(df.eth.bin\\textbackslash{}\\$BMI)] 0.892456377351334\n",
       "\\item[scale(df.eth.bin\\textbackslash{}\\$health)] 0.917884640729495\n",
       "\\end{description*}\n"
      ],
      "text/markdown": [
       "(Intercept)\n",
       ":   1.33750648332693scale(df.eth.bin$trunk.lean)\n",
       ":   0.919639456141994scale(df.eth.bin$time)\n",
       ":   0.981685075722703scale(df.eth.bin$Age)\n",
       ":   0.95768893807437df.eth.bin$Sex\n",
       ":   1.01316704019819scale(df.eth.bin$BMI)\n",
       ":   0.892456377351334scale(df.eth.bin$health)\n",
       ":   0.917884640729495\n",
       "\n"
      ],
      "text/plain": [
       "                 (Intercept) scale(df.eth.bin$trunk.lean) \n",
       "                   1.3375065                    0.9196395 \n",
       "      scale(df.eth.bin$time)        scale(df.eth.bin$Age) \n",
       "                   0.9816851                    0.9576889 \n",
       "              df.eth.bin$Sex        scale(df.eth.bin$BMI) \n",
       "                   1.0131670                    0.8924564 \n",
       "    scale(df.eth.bin$health) \n",
       "                   0.9178846 "
      ]
     },
     "metadata": {},
     "output_type": "display_data"
    },
    {
     "data": {
      "text/plain": [
       "\n",
       "Call:\n",
       "glm(formula = df$OA_check ~ scale(df$time) + scale(df$Age) + \n",
       "    df$Sex + scale(df$BMI))\n",
       "\n",
       "Coefficients:\n",
       "                Estimate Std. Error t value Pr(>|t|)    \n",
       "(Intercept)     0.084792   0.016978   4.994 8.84e-07 ***\n",
       "scale(df$time)  0.002402   0.012446   0.193    0.847    \n",
       "scale(df$Age)   0.121945   0.012493   9.761  < 2e-16 ***\n",
       "df$Sex         -0.020283   0.023605  -0.859    0.391    \n",
       "scale(df$BMI)   0.008258   0.012160   0.679    0.497    \n",
       "---\n",
       "Signif. codes:  0 '***' 0.001 '**' 0.01 '*' 0.05 '.' 0.1 ' ' 1\n",
       "\n",
       "(Dispersion parameter for gaussian family taken to be 0.05373271)\n",
       "\n",
       "    Null deviance: 27.778  on 404  degrees of freedom\n",
       "Residual deviance: 21.493  on 400  degrees of freedom\n",
       "AIC: -27.803\n",
       "\n",
       "Number of Fisher Scoring iterations: 2\n"
      ]
     },
     "metadata": {},
     "output_type": "display_data"
    },
    {
     "name": "stderr",
     "output_type": "stream",
     "text": [
      "Waiting for profiling to be done...\n",
      "\n"
     ]
    },
    {
     "data": {
      "text/html": [
       "<table class=\"dataframe\">\n",
       "<caption>A matrix: 5 × 2 of type dbl</caption>\n",
       "<thead>\n",
       "\t<tr><th></th><th scope=col>2.5 %</th><th scope=col>97.5 %</th></tr>\n",
       "</thead>\n",
       "<tbody>\n",
       "\t<tr><th scope=row>(Intercept)</th><td> 0.05151629</td><td>0.11806716</td></tr>\n",
       "\t<tr><th scope=row>scale(df$time)</th><td>-0.02199093</td><td>0.02679524</td></tr>\n",
       "\t<tr><th scope=row>scale(df$Age)</th><td> 0.09745936</td><td>0.14643101</td></tr>\n",
       "\t<tr><th scope=row>df$Sex</th><td>-0.06654757</td><td>0.02598078</td></tr>\n",
       "\t<tr><th scope=row>scale(df$BMI)</th><td>-0.01557584</td><td>0.03209127</td></tr>\n",
       "</tbody>\n",
       "</table>\n"
      ],
      "text/latex": [
       "A matrix: 5 × 2 of type dbl\n",
       "\\begin{tabular}{r|ll}\n",
       "  & 2.5 \\% & 97.5 \\%\\\\\n",
       "\\hline\n",
       "\t(Intercept) &  0.05151629 & 0.11806716\\\\\n",
       "\tscale(df\\$time) & -0.02199093 & 0.02679524\\\\\n",
       "\tscale(df\\$Age) &  0.09745936 & 0.14643101\\\\\n",
       "\tdf\\$Sex & -0.06654757 & 0.02598078\\\\\n",
       "\tscale(df\\$BMI) & -0.01557584 & 0.03209127\\\\\n",
       "\\end{tabular}\n"
      ],
      "text/markdown": [
       "\n",
       "A matrix: 5 × 2 of type dbl\n",
       "\n",
       "| <!--/--> | 2.5 % | 97.5 % |\n",
       "|---|---|---|\n",
       "| (Intercept) |  0.05151629 | 0.11806716 |\n",
       "| scale(df$time) | -0.02199093 | 0.02679524 |\n",
       "| scale(df$Age) |  0.09745936 | 0.14643101 |\n",
       "| df$Sex | -0.06654757 | 0.02598078 |\n",
       "| scale(df$BMI) | -0.01557584 | 0.03209127 |\n",
       "\n"
      ],
      "text/plain": [
       "               2.5 %       97.5 %    \n",
       "(Intercept)     0.05151629 0.11806716\n",
       "scale(df$time) -0.02199093 0.02679524\n",
       "scale(df$Age)   0.09745936 0.14643101\n",
       "df$Sex         -0.06654757 0.02598078\n",
       "scale(df$BMI)  -0.01557584 0.03209127"
      ]
     },
     "metadata": {},
     "output_type": "display_data"
    },
    {
     "data": {
      "text/html": [
       "<style>\n",
       ".dl-inline {width: auto; margin:0; padding: 0}\n",
       ".dl-inline>dt, .dl-inline>dd {float: none; width: auto; display: inline-block}\n",
       ".dl-inline>dt::after {content: \":\\0020\"; padding-right: .5ex}\n",
       ".dl-inline>dt:not(:first-of-type) {padding-left: .5ex}\n",
       "</style><dl class=dl-inline><dt>(Intercept)</dt><dd>1.08849033389439</dd><dt>scale(df$time)</dt><dd>1.00240504403797</dd><dt>scale(df$Age)</dt><dd>1.12969217483371</dd><dt>df$Sex</dt><dd>0.979920926259481</dd><dt>scale(df$BMI)</dt><dd>1.00829190523576</dd></dl>\n"
      ],
      "text/latex": [
       "\\begin{description*}\n",
       "\\item[(Intercept)] 1.08849033389439\n",
       "\\item[scale(df\\textbackslash{}\\$time)] 1.00240504403797\n",
       "\\item[scale(df\\textbackslash{}\\$Age)] 1.12969217483371\n",
       "\\item[df\\textbackslash{}\\$Sex] 0.979920926259481\n",
       "\\item[scale(df\\textbackslash{}\\$BMI)] 1.00829190523576\n",
       "\\end{description*}\n"
      ],
      "text/markdown": [
       "(Intercept)\n",
       ":   1.08849033389439scale(df$time)\n",
       ":   1.00240504403797scale(df$Age)\n",
       ":   1.12969217483371df$Sex\n",
       ":   0.979920926259481scale(df$BMI)\n",
       ":   1.00829190523576\n",
       "\n"
      ],
      "text/plain": [
       "   (Intercept) scale(df$time)  scale(df$Age)         df$Sex  scale(df$BMI) \n",
       "     1.0884903      1.0024050      1.1296922      0.9799209      1.0082919 "
      ]
     },
     "metadata": {},
     "output_type": "display_data"
    },
    {
     "data": {
      "text/plain": [
       "\n",
       "Call:\n",
       "glm(formula = df$OA_check ~ scale(df$trunk_lean_max_mean_sit2stand) + \n",
       "    scale(df$time) + scale(df$Age) + df$Sex + scale(df$BMI))\n",
       "\n",
       "Coefficients:\n",
       "                                          Estimate Std. Error t value Pr(>|t|)\n",
       "(Intercept)                              0.0846683  0.0168655   5.020 7.79e-07\n",
       "scale(df$trunk_lean_max_mean_sit2stand)  0.0293448  0.0116556   2.518   0.0122\n",
       "scale(df$time)                          -0.0006647  0.0124233  -0.054   0.9574\n",
       "scale(df$Age)                            0.1186666  0.0124786   9.510  < 2e-16\n",
       "df$Sex                                  -0.0200498  0.0234488  -0.855   0.3930\n",
       "scale(df$BMI)                            0.0076338  0.0120824   0.632   0.5279\n",
       "                                           \n",
       "(Intercept)                             ***\n",
       "scale(df$trunk_lean_max_mean_sit2stand) *  \n",
       "scale(df$time)                             \n",
       "scale(df$Age)                           ***\n",
       "df$Sex                                     \n",
       "scale(df$BMI)                              \n",
       "---\n",
       "Signif. codes:  0 '***' 0.001 '**' 0.01 '*' 0.05 '.' 0.1 ' ' 1\n",
       "\n",
       "(Dispersion parameter for gaussian family taken to be 0.05302502)\n",
       "\n",
       "    Null deviance: 27.778  on 404  degrees of freedom\n",
       "Residual deviance: 21.157  on 399  degrees of freedom\n",
       "AIC: -32.186\n",
       "\n",
       "Number of Fisher Scoring iterations: 2\n"
      ]
     },
     "metadata": {},
     "output_type": "display_data"
    },
    {
     "name": "stderr",
     "output_type": "stream",
     "text": [
      "Waiting for profiling to be done...\n",
      "\n"
     ]
    },
    {
     "data": {
      "text/html": [
       "<table class=\"dataframe\">\n",
       "<caption>A matrix: 6 × 2 of type dbl</caption>\n",
       "<thead>\n",
       "\t<tr><th></th><th scope=col>2.5 %</th><th scope=col>97.5 %</th></tr>\n",
       "</thead>\n",
       "<tbody>\n",
       "\t<tr><th scope=row>(Intercept)</th><td> 0.051612562</td><td>0.11772400</td></tr>\n",
       "\t<tr><th scope=row>scale(df$trunk_lean_max_mean_sit2stand)</th><td> 0.006500186</td><td>0.05218933</td></tr>\n",
       "\t<tr><th scope=row>scale(df$time)</th><td>-0.025013910</td><td>0.02368458</td></tr>\n",
       "\t<tr><th scope=row>scale(df$Age)</th><td> 0.094208999</td><td>0.14312418</td></tr>\n",
       "\t<tr><th scope=row>df$Sex</th><td>-0.066008642</td><td>0.02590908</td></tr>\n",
       "\t<tr><th scope=row>scale(df$BMI)</th><td>-0.016047228</td><td>0.03131490</td></tr>\n",
       "</tbody>\n",
       "</table>\n"
      ],
      "text/latex": [
       "A matrix: 6 × 2 of type dbl\n",
       "\\begin{tabular}{r|ll}\n",
       "  & 2.5 \\% & 97.5 \\%\\\\\n",
       "\\hline\n",
       "\t(Intercept) &  0.051612562 & 0.11772400\\\\\n",
       "\tscale(df\\$trunk\\_lean\\_max\\_mean\\_sit2stand) &  0.006500186 & 0.05218933\\\\\n",
       "\tscale(df\\$time) & -0.025013910 & 0.02368458\\\\\n",
       "\tscale(df\\$Age) &  0.094208999 & 0.14312418\\\\\n",
       "\tdf\\$Sex & -0.066008642 & 0.02590908\\\\\n",
       "\tscale(df\\$BMI) & -0.016047228 & 0.03131490\\\\\n",
       "\\end{tabular}\n"
      ],
      "text/markdown": [
       "\n",
       "A matrix: 6 × 2 of type dbl\n",
       "\n",
       "| <!--/--> | 2.5 % | 97.5 % |\n",
       "|---|---|---|\n",
       "| (Intercept) |  0.051612562 | 0.11772400 |\n",
       "| scale(df$trunk_lean_max_mean_sit2stand) |  0.006500186 | 0.05218933 |\n",
       "| scale(df$time) | -0.025013910 | 0.02368458 |\n",
       "| scale(df$Age) |  0.094208999 | 0.14312418 |\n",
       "| df$Sex | -0.066008642 | 0.02590908 |\n",
       "| scale(df$BMI) | -0.016047228 | 0.03131490 |\n",
       "\n"
      ],
      "text/plain": [
       "                                        2.5 %        97.5 %    \n",
       "(Intercept)                              0.051612562 0.11772400\n",
       "scale(df$trunk_lean_max_mean_sit2stand)  0.006500186 0.05218933\n",
       "scale(df$time)                          -0.025013910 0.02368458\n",
       "scale(df$Age)                            0.094208999 0.14312418\n",
       "df$Sex                                  -0.066008642 0.02590908\n",
       "scale(df$BMI)                           -0.016047228 0.03131490"
      ]
     },
     "metadata": {},
     "output_type": "display_data"
    },
    {
     "data": {
      "text/html": [
       "<style>\n",
       ".dl-inline {width: auto; margin:0; padding: 0}\n",
       ".dl-inline>dt, .dl-inline>dd {float: none; width: auto; display: inline-block}\n",
       ".dl-inline>dt::after {content: \":\\0020\"; padding-right: .5ex}\n",
       ".dl-inline>dt:not(:first-of-type) {padding-left: .5ex}\n",
       "</style><dl class=dl-inline><dt>(Intercept)</dt><dd>1.08835597704555</dd><dt>scale(df$trunk_lean_max_mean_sit2stand)</dt><dd>1.02977956016309</dd><dt>scale(df$time)</dt><dd>0.999335557957601</dd><dt>scale(df$Age)</dt><dd>1.12599443548898</dd><dt>df$Sex</dt><dd>0.980149878580022</dd><dt>scale(df$BMI)</dt><dd>1.00766304785715</dd></dl>\n"
      ],
      "text/latex": [
       "\\begin{description*}\n",
       "\\item[(Intercept)] 1.08835597704555\n",
       "\\item[scale(df\\textbackslash{}\\$trunk\\textbackslash{}\\_lean\\textbackslash{}\\_max\\textbackslash{}\\_mean\\textbackslash{}\\_sit2stand)] 1.02977956016309\n",
       "\\item[scale(df\\textbackslash{}\\$time)] 0.999335557957601\n",
       "\\item[scale(df\\textbackslash{}\\$Age)] 1.12599443548898\n",
       "\\item[df\\textbackslash{}\\$Sex] 0.980149878580022\n",
       "\\item[scale(df\\textbackslash{}\\$BMI)] 1.00766304785715\n",
       "\\end{description*}\n"
      ],
      "text/markdown": [
       "(Intercept)\n",
       ":   1.08835597704555scale(df$trunk_lean_max_mean_sit2stand)\n",
       ":   1.02977956016309scale(df$time)\n",
       ":   0.999335557957601scale(df$Age)\n",
       ":   1.12599443548898df$Sex\n",
       ":   0.980149878580022scale(df$BMI)\n",
       ":   1.00766304785715\n",
       "\n"
      ],
      "text/plain": [
       "                            (Intercept) scale(df$trunk_lean_max_mean_sit2stand) \n",
       "                              1.0883560                               1.0297796 \n",
       "                         scale(df$time)                           scale(df$Age) \n",
       "                              0.9993356                               1.1259944 \n",
       "                                 df$Sex                           scale(df$BMI) \n",
       "                              0.9801499                               1.0076630 "
      ]
     },
     "metadata": {},
     "output_type": "display_data"
    },
    {
     "data": {
      "text/plain": [
       "\n",
       "Call:\n",
       "glm(formula = df$Fall_YN ~ scale(df$time) + scale(df$Age) + df$Sex + \n",
       "    scale(df$BMI))\n",
       "\n",
       "Coefficients:\n",
       "               Estimate Std. Error t value Pr(>|t|)    \n",
       "(Intercept)     0.14957    0.02682   5.576 4.53e-08 ***\n",
       "scale(df$time)  0.04586    0.01966   2.332   0.0202 *  \n",
       "scale(df$Age)   0.02662    0.01974   1.349   0.1781    \n",
       "df$Sex          0.02535    0.03729   0.680   0.4971    \n",
       "scale(df$BMI)  -0.02732    0.01921  -1.422   0.1558    \n",
       "---\n",
       "Signif. codes:  0 '***' 0.001 '**' 0.01 '*' 0.05 '.' 0.1 ' ' 1\n",
       "\n",
       "(Dispersion parameter for gaussian family taken to be 0.1341111)\n",
       "\n",
       "    Null deviance: 55.244  on 404  degrees of freedom\n",
       "Residual deviance: 53.644  on 400  degrees of freedom\n",
       "AIC: 342.63\n",
       "\n",
       "Number of Fisher Scoring iterations: 2\n"
      ]
     },
     "metadata": {},
     "output_type": "display_data"
    },
    {
     "name": "stderr",
     "output_type": "stream",
     "text": [
      "Waiting for profiling to be done...\n",
      "\n"
     ]
    },
    {
     "data": {
      "text/html": [
       "<table class=\"dataframe\">\n",
       "<caption>A matrix: 5 × 2 of type dbl</caption>\n",
       "<thead>\n",
       "\t<tr><th></th><th scope=col>2.5 %</th><th scope=col>97.5 %</th></tr>\n",
       "</thead>\n",
       "<tbody>\n",
       "\t<tr><th scope=row>(Intercept)</th><td> 0.096999941</td><td>0.20213962</td></tr>\n",
       "\t<tr><th scope=row>scale(df$time)</th><td> 0.007322948</td><td>0.08439726</td></tr>\n",
       "\t<tr><th scope=row>scale(df$Age)</th><td>-0.012060442</td><td>0.06530690</td></tr>\n",
       "\t<tr><th scope=row>df$Sex</th><td>-0.047743053</td><td>0.09843687</td></tr>\n",
       "\t<tr><th scope=row>scale(df$BMI)</th><td>-0.064973819</td><td>0.01033256</td></tr>\n",
       "</tbody>\n",
       "</table>\n"
      ],
      "text/latex": [
       "A matrix: 5 × 2 of type dbl\n",
       "\\begin{tabular}{r|ll}\n",
       "  & 2.5 \\% & 97.5 \\%\\\\\n",
       "\\hline\n",
       "\t(Intercept) &  0.096999941 & 0.20213962\\\\\n",
       "\tscale(df\\$time) &  0.007322948 & 0.08439726\\\\\n",
       "\tscale(df\\$Age) & -0.012060442 & 0.06530690\\\\\n",
       "\tdf\\$Sex & -0.047743053 & 0.09843687\\\\\n",
       "\tscale(df\\$BMI) & -0.064973819 & 0.01033256\\\\\n",
       "\\end{tabular}\n"
      ],
      "text/markdown": [
       "\n",
       "A matrix: 5 × 2 of type dbl\n",
       "\n",
       "| <!--/--> | 2.5 % | 97.5 % |\n",
       "|---|---|---|\n",
       "| (Intercept) |  0.096999941 | 0.20213962 |\n",
       "| scale(df$time) |  0.007322948 | 0.08439726 |\n",
       "| scale(df$Age) | -0.012060442 | 0.06530690 |\n",
       "| df$Sex | -0.047743053 | 0.09843687 |\n",
       "| scale(df$BMI) | -0.064973819 | 0.01033256 |\n",
       "\n"
      ],
      "text/plain": [
       "               2.5 %        97.5 %    \n",
       "(Intercept)     0.096999941 0.20213962\n",
       "scale(df$time)  0.007322948 0.08439726\n",
       "scale(df$Age)  -0.012060442 0.06530690\n",
       "df$Sex         -0.047743053 0.09843687\n",
       "scale(df$BMI)  -0.064973819 0.01033256"
      ]
     },
     "metadata": {},
     "output_type": "display_data"
    },
    {
     "data": {
      "text/html": [
       "<style>\n",
       ".dl-inline {width: auto; margin:0; padding: 0}\n",
       ".dl-inline>dt, .dl-inline>dd {float: none; width: auto; display: inline-block}\n",
       ".dl-inline>dt::after {content: \":\\0020\"; padding-right: .5ex}\n",
       ".dl-inline>dt:not(:first-of-type) {padding-left: .5ex}\n",
       "</style><dl class=dl-inline><dt>(Intercept)</dt><dd>1.16133450696988</dd><dt>scale(df$time)</dt><dd>1.0469279387637</dd><dt>scale(df$Age)</dt><dd>1.02698079304888</dd><dt>df$Sex</dt><dd>1.02567087424459</dd><dt>scale(df$BMI)</dt><dd>0.973049201568807</dd></dl>\n"
      ],
      "text/latex": [
       "\\begin{description*}\n",
       "\\item[(Intercept)] 1.16133450696988\n",
       "\\item[scale(df\\textbackslash{}\\$time)] 1.0469279387637\n",
       "\\item[scale(df\\textbackslash{}\\$Age)] 1.02698079304888\n",
       "\\item[df\\textbackslash{}\\$Sex] 1.02567087424459\n",
       "\\item[scale(df\\textbackslash{}\\$BMI)] 0.973049201568807\n",
       "\\end{description*}\n"
      ],
      "text/markdown": [
       "(Intercept)\n",
       ":   1.16133450696988scale(df$time)\n",
       ":   1.0469279387637scale(df$Age)\n",
       ":   1.02698079304888df$Sex\n",
       ":   1.02567087424459scale(df$BMI)\n",
       ":   0.973049201568807\n",
       "\n"
      ],
      "text/plain": [
       "   (Intercept) scale(df$time)  scale(df$Age)         df$Sex  scale(df$BMI) \n",
       "     1.1613345      1.0469279      1.0269808      1.0256709      0.9730492 "
      ]
     },
     "metadata": {},
     "output_type": "display_data"
    },
    {
     "data": {
      "text/plain": [
       "\n",
       "Call:\n",
       "glm(formula = df$Fall_YN ~ scale(df$trunk_lean_max_mean_sit2stand) + \n",
       "    scale(df$time) + scale(df$Age) + df$Sex + scale(df$BMI))\n",
       "\n",
       "Coefficients:\n",
       "                                         Estimate Std. Error t value Pr(>|t|)\n",
       "(Intercept)                              0.149584   0.026854   5.570 4.69e-08\n",
       "scale(df$trunk_lean_max_mean_sit2stand) -0.003392   0.018559  -0.183    0.855\n",
       "scale(df$time)                           0.046215   0.019781   2.336    0.020\n",
       "scale(df$Age)                            0.027002   0.019869   1.359    0.175\n",
       "df$Sex                                   0.025320   0.037337   0.678    0.498\n",
       "scale(df$BMI)                           -0.027249   0.019238  -1.416    0.157\n",
       "                                           \n",
       "(Intercept)                             ***\n",
       "scale(df$trunk_lean_max_mean_sit2stand)    \n",
       "scale(df$time)                          *  \n",
       "scale(df$Age)                              \n",
       "df$Sex                                     \n",
       "scale(df$BMI)                              \n",
       "---\n",
       "Signif. codes:  0 '***' 0.001 '**' 0.01 '*' 0.05 '.' 0.1 ' ' 1\n",
       "\n",
       "(Dispersion parameter for gaussian family taken to be 0.1344359)\n",
       "\n",
       "    Null deviance: 55.244  on 404  degrees of freedom\n",
       "Residual deviance: 53.640  on 399  degrees of freedom\n",
       "AIC: 344.59\n",
       "\n",
       "Number of Fisher Scoring iterations: 2\n"
      ]
     },
     "metadata": {},
     "output_type": "display_data"
    },
    {
     "name": "stderr",
     "output_type": "stream",
     "text": [
      "Waiting for profiling to be done...\n",
      "\n"
     ]
    },
    {
     "data": {
      "text/html": [
       "<table class=\"dataframe\">\n",
       "<caption>A matrix: 6 × 2 of type dbl</caption>\n",
       "<thead>\n",
       "\t<tr><th></th><th scope=col>2.5 %</th><th scope=col>97.5 %</th></tr>\n",
       "</thead>\n",
       "<tbody>\n",
       "\t<tr><th scope=row>(Intercept)</th><td> 0.096950356</td><td>0.20221775</td></tr>\n",
       "\t<tr><th scope=row>scale(df$trunk_lean_max_mean_sit2stand)</th><td>-0.039767015</td><td>0.03298254</td></tr>\n",
       "\t<tr><th scope=row>scale(df$time)</th><td> 0.007444001</td><td>0.08498525</td></tr>\n",
       "\t<tr><th scope=row>scale(df$Age)</th><td>-0.011940901</td><td>0.06594537</td></tr>\n",
       "\t<tr><th scope=row>df$Sex</th><td>-0.047859103</td><td>0.09849891</td></tr>\n",
       "\t<tr><th scope=row>scale(df$BMI)</th><td>-0.064955206</td><td>0.01045818</td></tr>\n",
       "</tbody>\n",
       "</table>\n"
      ],
      "text/latex": [
       "A matrix: 6 × 2 of type dbl\n",
       "\\begin{tabular}{r|ll}\n",
       "  & 2.5 \\% & 97.5 \\%\\\\\n",
       "\\hline\n",
       "\t(Intercept) &  0.096950356 & 0.20221775\\\\\n",
       "\tscale(df\\$trunk\\_lean\\_max\\_mean\\_sit2stand) & -0.039767015 & 0.03298254\\\\\n",
       "\tscale(df\\$time) &  0.007444001 & 0.08498525\\\\\n",
       "\tscale(df\\$Age) & -0.011940901 & 0.06594537\\\\\n",
       "\tdf\\$Sex & -0.047859103 & 0.09849891\\\\\n",
       "\tscale(df\\$BMI) & -0.064955206 & 0.01045818\\\\\n",
       "\\end{tabular}\n"
      ],
      "text/markdown": [
       "\n",
       "A matrix: 6 × 2 of type dbl\n",
       "\n",
       "| <!--/--> | 2.5 % | 97.5 % |\n",
       "|---|---|---|\n",
       "| (Intercept) |  0.096950356 | 0.20221775 |\n",
       "| scale(df$trunk_lean_max_mean_sit2stand) | -0.039767015 | 0.03298254 |\n",
       "| scale(df$time) |  0.007444001 | 0.08498525 |\n",
       "| scale(df$Age) | -0.011940901 | 0.06594537 |\n",
       "| df$Sex | -0.047859103 | 0.09849891 |\n",
       "| scale(df$BMI) | -0.064955206 | 0.01045818 |\n",
       "\n"
      ],
      "text/plain": [
       "                                        2.5 %        97.5 %    \n",
       "(Intercept)                              0.096950356 0.20221775\n",
       "scale(df$trunk_lean_max_mean_sit2stand) -0.039767015 0.03298254\n",
       "scale(df$time)                           0.007444001 0.08498525\n",
       "scale(df$Age)                           -0.011940901 0.06594537\n",
       "df$Sex                                  -0.047859103 0.09849891\n",
       "scale(df$BMI)                           -0.064955206 0.01045818"
      ]
     },
     "metadata": {},
     "output_type": "display_data"
    },
    {
     "data": {
      "text/html": [
       "<style>\n",
       ".dl-inline {width: auto; margin:0; padding: 0}\n",
       ".dl-inline>dt, .dl-inline>dd {float: none; width: auto; display: inline-block}\n",
       ".dl-inline>dt::after {content: \":\\0020\"; padding-right: .5ex}\n",
       ".dl-inline>dt:not(:first-of-type) {padding-left: .5ex}\n",
       "</style><dl class=dl-inline><dt>(Intercept)</dt><dd>1.16135107910377</dd><dt>scale(df$trunk_lean_max_mean_sit2stand)</dt><dd>0.996613507465462</dd><dt>scale(df$time)</dt><dd>1.04729916438989</dd><dt>scale(df$Age)</dt><dd>1.02737009672775</dd><dt>df$Sex</dt><dd>1.02564317541535</dd><dt>scale(df$BMI)</dt><dd>0.973119380665749</dd></dl>\n"
      ],
      "text/latex": [
       "\\begin{description*}\n",
       "\\item[(Intercept)] 1.16135107910377\n",
       "\\item[scale(df\\textbackslash{}\\$trunk\\textbackslash{}\\_lean\\textbackslash{}\\_max\\textbackslash{}\\_mean\\textbackslash{}\\_sit2stand)] 0.996613507465462\n",
       "\\item[scale(df\\textbackslash{}\\$time)] 1.04729916438989\n",
       "\\item[scale(df\\textbackslash{}\\$Age)] 1.02737009672775\n",
       "\\item[df\\textbackslash{}\\$Sex] 1.02564317541535\n",
       "\\item[scale(df\\textbackslash{}\\$BMI)] 0.973119380665749\n",
       "\\end{description*}\n"
      ],
      "text/markdown": [
       "(Intercept)\n",
       ":   1.16135107910377scale(df$trunk_lean_max_mean_sit2stand)\n",
       ":   0.996613507465462scale(df$time)\n",
       ":   1.04729916438989scale(df$Age)\n",
       ":   1.02737009672775df$Sex\n",
       ":   1.02564317541535scale(df$BMI)\n",
       ":   0.973119380665749\n",
       "\n"
      ],
      "text/plain": [
       "                            (Intercept) scale(df$trunk_lean_max_mean_sit2stand) \n",
       "                              1.1613511                               0.9966135 \n",
       "                         scale(df$time)                           scale(df$Age) \n",
       "                              1.0472992                               1.0273701 \n",
       "                                 df$Sex                           scale(df$BMI) \n",
       "                              1.0256432                               0.9731194 "
      ]
     },
     "metadata": {},
     "output_type": "display_data"
    },
    {
     "data": {
      "text/plain": [
       "\u001b[4mMODEL INFO:\u001b[24m\n",
       "\u001b[3mObservations:\u001b[23m 106\n",
       "\u001b[3mDependent Variable:\u001b[23m df_age50plus$GMH_TScore\n",
       "\u001b[3mType:\u001b[23m OLS linear regression \n",
       "\n",
       "\u001b[4mMODEL FIT:\u001b[24m\n",
       "\u001b[3mF\u001b[23m(5,100) = 3.544, \u001b[3mp\u001b[23m = 0.005\n",
       "\u001b[3mR² = \u001b[23m0.151\n",
       "\u001b[3mAdj. R² = \u001b[23m0.108 \n",
       "\n",
       "\u001b[3mStandard errors: OLS\u001b[23m\n",
       "----------------------------------------------------------------------------\n",
       "                                                               Est.     2.5%\n",
       "---------------------------------------------------------- -------- --------\n",
       "(Intercept)                                                  55.643   53.726\n",
       "scale(df_age50plus$trunk_lean_max_ang_acc_sit2stand)          1.705    0.376\n",
       "scale(df_age50plus$time)                                     -0.136   -1.569\n",
       "scale(df_age50plus$Age)                                       0.803   -0.632\n",
       "df_age50plus$Sex                                             -1.874   -4.492\n",
       "scale(df_age50plus$BMI)                                      -1.539   -2.898\n",
       "----------------------------------------------------------------------------\n",
       " \n",
       "----------------------------------------------------------------------------\n",
       "                                                              97.5%   t val.\n",
       "---------------------------------------------------------- -------- --------\n",
       "(Intercept)                                                  57.561   57.571\n",
       "scale(df_age50plus$trunk_lean_max_ang_acc_sit2stand)          3.034    2.545\n",
       "scale(df_age50plus$time)                                      1.297   -0.188\n",
       "scale(df_age50plus$Age)                                       2.238    1.110\n",
       "df_age50plus$Sex                                              0.744   -1.420\n",
       "scale(df_age50plus$BMI)                                      -0.180   -2.246\n",
       "----------------------------------------------------------------------------\n",
       " \n",
       "------------------------------------------------------------------\n",
       "                                                                 p\n",
       "---------------------------------------------------------- -------\n",
       "(Intercept)                                                  0.000\n",
       "scale(df_age50plus$trunk_lean_max_ang_acc_sit2stand)         0.012\n",
       "scale(df_age50plus$time)                                     0.851\n",
       "scale(df_age50plus$Age)                                      0.270\n",
       "df_age50plus$Sex                                             0.159\n",
       "scale(df_age50plus$BMI)                                      0.027\n",
       "------------------------------------------------------------------"
      ]
     },
     "metadata": {},
     "output_type": "display_data"
    },
    {
     "data": {
      "text/html": [
       "<table class=\"dataframe\">\n",
       "<caption>A matrix: 6 × 2 of type dbl</caption>\n",
       "<thead>\n",
       "\t<tr><th></th><th scope=col>2.5 %</th><th scope=col>97.5 %</th></tr>\n",
       "</thead>\n",
       "<tbody>\n",
       "\t<tr><th scope=row>(Intercept)</th><td>53.7256754</td><td>57.5607454</td></tr>\n",
       "\t<tr><th scope=row>scale(df_age50plus$trunk_lean_max_ang_acc_sit2stand)</th><td> 0.3757393</td><td> 3.0344779</td></tr>\n",
       "\t<tr><th scope=row>scale(df_age50plus$time)</th><td>-1.5689984</td><td> 1.2968607</td></tr>\n",
       "\t<tr><th scope=row>scale(df_age50plus$Age)</th><td>-0.6324504</td><td> 2.2384360</td></tr>\n",
       "\t<tr><th scope=row>df_age50plus$Sex</th><td>-4.4917362</td><td> 0.7441394</td></tr>\n",
       "\t<tr><th scope=row>scale(df_age50plus$BMI)</th><td>-2.8983490</td><td>-0.1797021</td></tr>\n",
       "</tbody>\n",
       "</table>\n"
      ],
      "text/latex": [
       "A matrix: 6 × 2 of type dbl\n",
       "\\begin{tabular}{r|ll}\n",
       "  & 2.5 \\% & 97.5 \\%\\\\\n",
       "\\hline\n",
       "\t(Intercept) & 53.7256754 & 57.5607454\\\\\n",
       "\tscale(df\\_age50plus\\$trunk\\_lean\\_max\\_ang\\_acc\\_sit2stand) &  0.3757393 &  3.0344779\\\\\n",
       "\tscale(df\\_age50plus\\$time) & -1.5689984 &  1.2968607\\\\\n",
       "\tscale(df\\_age50plus\\$Age) & -0.6324504 &  2.2384360\\\\\n",
       "\tdf\\_age50plus\\$Sex & -4.4917362 &  0.7441394\\\\\n",
       "\tscale(df\\_age50plus\\$BMI) & -2.8983490 & -0.1797021\\\\\n",
       "\\end{tabular}\n"
      ],
      "text/markdown": [
       "\n",
       "A matrix: 6 × 2 of type dbl\n",
       "\n",
       "| <!--/--> | 2.5 % | 97.5 % |\n",
       "|---|---|---|\n",
       "| (Intercept) | 53.7256754 | 57.5607454 |\n",
       "| scale(df_age50plus$trunk_lean_max_ang_acc_sit2stand) |  0.3757393 |  3.0344779 |\n",
       "| scale(df_age50plus$time) | -1.5689984 |  1.2968607 |\n",
       "| scale(df_age50plus$Age) | -0.6324504 |  2.2384360 |\n",
       "| df_age50plus$Sex | -4.4917362 |  0.7441394 |\n",
       "| scale(df_age50plus$BMI) | -2.8983490 | -0.1797021 |\n",
       "\n"
      ],
      "text/plain": [
       "                                                     2.5 %      97.5 %    \n",
       "(Intercept)                                          53.7256754 57.5607454\n",
       "scale(df_age50plus$trunk_lean_max_ang_acc_sit2stand)  0.3757393  3.0344779\n",
       "scale(df_age50plus$time)                             -1.5689984  1.2968607\n",
       "scale(df_age50plus$Age)                              -0.6324504  2.2384360\n",
       "df_age50plus$Sex                                     -4.4917362  0.7441394\n",
       "scale(df_age50plus$BMI)                              -2.8983490 -0.1797021"
      ]
     },
     "metadata": {},
     "output_type": "display_data"
    }
   ],
   "source": [
    "# Time predict GPH - control for age, sex, BMI\n",
    "summ(lm(df$GPH_TScore ~ scale(df$time) + scale(df$Age) + df$Sex + scale(df$BMI)),confint = TRUE, digits = 3)\n",
    "\n",
    "# Trunk lean max predict ethnicity status - control for time, age, sex, BMI\n",
    "# Kruskal-Wallis test\n",
    "## Because one ethnic group not normally distributed\n",
    "df.eth <- rbind(cbind(df$trunk_lean_max_mean_sit2stand[which(df$Ethnicity==1)], df$time[which(df$Ethnicity==1)], \"White\"), cbind(df$trunk_lean_max_mean_sit2stand[which(df$Ethnicity==2)], df$time[which(df$Ethnicity==2)], \"Black\"),  cbind(df$trunk_lean_max_mean_sit2stand[which(df$Ethnicity==3)], df$time[which(df$Ethnicity==3)], \"Hispanic\"), cbind(df$trunk_lean_max_mean_sit2stand[which(df$Ethnicity==4)], df$time[which(df$Ethnicity==4)], \"Asian\"))\n",
    "df.eth <- data.frame(df.eth)\n",
    "colnames(df.eth) <- c(\"trunk.lean\", \"time\", \"ethnicity\")\n",
    "df.eth$ethnicity <- as.factor(df.eth$ethnicity)\n",
    "df.eth$trunk.lean <- as.numeric(df.eth$trunk.lean)\n",
    "df.eth$time <- as.numeric(df.eth$time)\n",
    "\n",
    "## Compute summary statistics\n",
    "group_by(df.eth, ethnicity) %>%\n",
    "  summarise(\n",
    "    count = n(),\n",
    "    mean = mean(trunk.lean, na.rm = TRUE),\n",
    "    sd = sd(trunk.lean, na.rm = TRUE),\n",
    "    median = median(trunk.lean, na.rm = TRUE),\n",
    "    IQR = IQR(trunk.lean, na.rm = TRUE)\n",
    "  )\n",
    "\n",
    "## Kruskal-Wallis\n",
    "kruskal.test(trunk.lean ~ ethnicity, data = df.eth)\n",
    "\n",
    "## Dunn's Test with Bonferroni correction for p-values\n",
    "dunnTest(trunk.lean ~ ethnicity, data = df.eth, method = \"bh\")\n",
    "\n",
    "# Control for other variables\n",
    "df.eth.bin <- data.frame(rbind(cbind(df$trunk_lean_max_mean_sit2stand[which(df$Ethnicity==1)], df$time[which(df$Ethnicity==1)], df$Age[which(df$Ethnicity==1)], df$Sex[which(df$Ethnicity==1)], df$BMI[which(df$Ethnicity==1)], df$GPH_TScore[which(df$Ethnicity==1)], 0), cbind(df$trunk_lean_max_mean_sit2stand[which(df$Ethnicity==4)], df$time[which(df$Ethnicity==4)], df$Age[which(df$Ethnicity==4)], df$Sex[which(df$Ethnicity==4)], df$BMI[which(df$Ethnicity==4)], df$GPH_TScore[which(df$Ethnicity==4)], 1)))\n",
    "colnames(df.eth.bin) <- c(\"trunk.lean\", \"time\", \"Age\", \"Sex\", \"BMI\", \"health\", \"ethnicity\")\n",
    "\n",
    "## Binned ethnicity\n",
    "mod2 <- glm(formula = df.eth.bin$ethnicity ~ scale(df.eth.bin$trunk.lean) + scale(df.eth.bin$time) + scale(df.eth.bin$Age) + df.eth.bin$Sex + scale(df.eth.bin$BMI) + scale(df.eth.bin$health))\n",
    "\n",
    "summary(mod2, family = \"binomial\")\n",
    "confint(mod2)\n",
    "exp(coef(mod2))\n",
    "\n",
    "# OA status\n",
    "# Trunk lean max predict OA status - control for time, age, sex, BMI\n",
    "\n",
    "mod3 <- glm(df$OA_check ~ scale(df$time) + scale(df$Age) + df$Sex + scale(df$BMI))\n",
    "\n",
    "summary(mod3, family = \"binomial\")\n",
    "confint(mod3)\n",
    "exp(coef(mod3))\n",
    "\n",
    "mod4 <- glm(df$OA_check ~ scale(df$trunk_lean_max_mean_sit2stand) + scale(df$time) + scale(df$Age) + df$Sex + scale(df$BMI))\n",
    "\n",
    "summary(mod4, family = \"binomial\")\n",
    "confint(mod4)\n",
    "exp(coef(mod4))\n",
    "\n",
    "# Fall status\n",
    "# Trunk lean max predict OA status - control for time, age, sex, BMI\n",
    "\n",
    "mod5 <- glm(df$Fall_YN ~ scale(df$time) + scale(df$Age) + df$Sex + scale(df$BMI))\n",
    "\n",
    "summary(mod5, family = \"binomial\")\n",
    "confint(mod5)\n",
    "exp(coef(mod5))\n",
    "\n",
    "mod6 <- glm(df$Fall_YN ~ scale(df$trunk_lean_max_mean_sit2stand) + scale(df$time) + scale(df$Age) + df$Sex + scale(df$BMI))\n",
    "\n",
    "summary(mod6, family = \"binomial\")\n",
    "confint(mod6)\n",
    "exp(coef(mod6))\n",
    "\n",
    "# Global mental health\n",
    "# Trunk acceleration max predict GMH - control for time, age, sex, BMI\n",
    "mod4 <- lm(df_age50plus$GMH_TScore ~ scale(df_age50plus$trunk_lean_max_ang_acc_sit2stand) + scale(df_age50plus$time) + scale(df_age50plus$Age) + df_age50plus$Sex + scale(df_age50plus$BMI))\n",
    "\n",
    "summ(mod4,confint = TRUE, digits = 3)\n",
    "confint(mod4)"
   ]
  },
  {
   "cell_type": "code",
   "execution_count": 14,
   "metadata": {
    "vscode": {
     "languageId": "r"
    }
   },
   "outputs": [
    {
     "data": {
      "image/png": "[encoded data removed]",
      "text/plain": [
       "plot without title"
      ]
     },
     "metadata": {
      "image/png": {
       "height": 420,
       "width": 420
      }
     },
     "output_type": "display_data"
    },
    {
     "data": {
      "image/png": "[encoded data removed]",
      "text/plain": [
       "plot without title"
      ]
     },
     "metadata": {
      "image/png": {
       "height": 420,
       "width": 420
      }
     },
     "output_type": "display_data"
    },
    {
     "data": {
      "image/png": "[encoded data removed]",
      "text/plain": [
       "plot without title"
      ]
     },
     "metadata": {
      "image/png": {
       "height": 420,
       "width": 420
      }
     },
     "output_type": "display_data"
    },
    {
     "data": {
      "image/png": "[encoded data removed]",
      "text/plain": [
       "plot without title"
      ]
     },
     "metadata": {
      "image/png": {
       "height": 420,
       "width": 420
      }
     },
     "output_type": "display_data"
    },
    {
     "data": {
      "text/plain": [
       "\n",
       "\tWelch Two Sample t-test\n",
       "\n",
       "data:  df$trunk_lean_max_mean_sit2stand[row(df)[which(df$OA_check == 0)]] and df$trunk_lean_max_mean_sit2stand[row(df)[which(df$OA_check == 1)]]\n",
       "t = -2.8691, df = 31.557, p-value = 0.007283\n",
       "alternative hypothesis: true difference in means is not equal to 0\n",
       "95 percent confidence interval:\n",
       " -9.920106 -1.680047\n",
       "sample estimates:\n",
       "mean of x mean of y \n",
       " 200.0229  205.8230 \n"
      ]
     },
     "metadata": {},
     "output_type": "display_data"
    },
    {
     "data": {
      "text/html": [
       "<style>\n",
       ".list-inline {list-style: none; margin:0; padding: 0}\n",
       ".list-inline>li {display: inline-block}\n",
       ".list-inline>li:not(:last-child)::after {content: \"\\00b7\"; padding: 0 .5ex}\n",
       "</style>\n",
       "<ol class=list-inline><li>-9.9201059656191</li><li>-1.68004690504754</li></ol>\n"
      ],
      "text/latex": [
       "\\begin{enumerate*}\n",
       "\\item -9.9201059656191\n",
       "\\item -1.68004690504754\n",
       "\\end{enumerate*}\n"
      ],
      "text/markdown": [
       "1. -9.9201059656191\n",
       "2. -1.68004690504754\n",
       "\n",
       "\n"
      ],
      "text/plain": [
       "[1] -9.920106 -1.680047\n",
       "attr(,\"conf.level\")\n",
       "[1] 0.95"
      ]
     },
     "metadata": {},
     "output_type": "display_data"
    },
    {
     "data": {
      "image/png": "[encoded data removed]",
      "text/plain": [
       "plot without title"
      ]
     },
     "metadata": {
      "image/png": {
       "height": 420,
       "width": 420
      }
     },
     "output_type": "display_data"
    },
    {
     "data": {
      "text/plain": [
       "\n",
       "\tWelch Two Sample t-test\n",
       "\n",
       "data:  df$trunk_lean_max_mean_sit2stand[row(df)[which(df$Fall_YN == 0)]] and df$trunk_lean_max_mean_sit2stand[row(df)[which(df$Fall_YN == 1)]]\n",
       "t = -0.32842, df = 96.456, p-value = 0.7433\n",
       "alternative hypothesis: true difference in means is not equal to 0\n",
       "95 percent confidence interval:\n",
       " -2.477824  1.774269\n",
       "sample estimates:\n",
       "mean of x mean of y \n",
       " 200.3952  200.7470 \n"
      ]
     },
     "metadata": {},
     "output_type": "display_data"
    },
    {
     "data": {
      "text/html": [
       "<style>\n",
       ".list-inline {list-style: none; margin:0; padding: 0}\n",
       ".list-inline>li {display: inline-block}\n",
       ".list-inline>li:not(:last-child)::after {content: \"\\00b7\"; padding: 0 .5ex}\n",
       "</style>\n",
       "<ol class=list-inline><li>-2.47782446853459</li><li>1.77426910299424</li></ol>\n"
      ],
      "text/latex": [
       "\\begin{enumerate*}\n",
       "\\item -2.47782446853459\n",
       "\\item 1.77426910299424\n",
       "\\end{enumerate*}\n"
      ],
      "text/markdown": [
       "1. -2.47782446853459\n",
       "2. 1.77426910299424\n",
       "\n",
       "\n"
      ],
      "text/plain": [
       "[1] -2.477824  1.774269\n",
       "attr(,\"conf.level\")\n",
       "[1] 0.95"
      ]
     },
     "metadata": {},
     "output_type": "display_data"
    },
    {
     "data": {
      "image/png": "[encoded data removed]",
      "text/plain": [
       "plot without title"
      ]
     },
     "metadata": {
      "image/png": {
       "height": 420,
       "width": 420
      }
     },
     "output_type": "display_data"
    },
    {
     "data": {
      "image/png": "[encoded data removed]",
      "text/plain": [
       "plot without title"
      ]
     },
     "metadata": {
      "image/png": {
       "height": 420,
       "width": 420
      }
     },
     "output_type": "display_data"
    }
   ],
   "source": [
    "# Age Bins\n",
    "TimeAgeGroup <- tapply(df$time, df$ageBin, summary)\n",
    "boxplot(TimeAgeGroup, xlab=\"Age Bin\", ylab=\"Time\")\n",
    "\n",
    "# Physical health vs. Time\n",
    "plot1 <- ggscatter(df_age50plus, x = \"time\", y = \"GPH_TScore\", xlab = \"Time\", size = 3, font.label = c(20, \"plain\"),\n",
    "  ylab = \"Physical Health\",\n",
    "   add = \"reg.line\",  # Add regressin line\n",
    "   add.params = list(color = \"lightblue\", fill = \"lightgray\"), # Customize reg. line\n",
    "   conf.int = TRUE # Add confidence interval\n",
    "   )\n",
    "plot1 + stat_cor(method = \"pearson\", label.x = 10, label.y = 70)\n",
    "\n",
    "# Age vs. Right Hip\n",
    "plot2 <- ggscatter(df, x = \"speed_sd\", y = \"Age\", xlab = \"Speed Standard Deviation\", size = 3, font.label = c(20, \"plain\"),\n",
    "  ylab = \"Age\",\n",
    "   add = \"reg.line\",  # Add regressin line\n",
    "   add.params = list(color = \"lightblue\", fill = \"lightgray\"), # Customize reg. line\n",
    "   conf.int = TRUE # Add confidence interval\n",
    "   )\n",
    "plot2 + stat_cor(method = \"pearson\", label.x = 0.1, label.y = 80)\n",
    "\n",
    "# Ethnicity vs. Trunk lean\n",
    "TrunkLean_Eth <- tapply(df$trunk_lean_max_mean_sit2stand, df$Ethnicity, summary)\n",
    "boxplot(TrunkLean_Eth, xlab=\"Ethnicity\", ylab=\"Max Trunk Lean\")\n",
    "\n",
    "# Osteoarthritis Status vs. trunk angle\n",
    "df$OA_check.fact <- as.factor(df$OA_check)\n",
    "ggplot(df, aes(x=OA_check.fact, y=trunk_lean_max_mean_sit2stand)) + \n",
    "  geom_boxplot(fill=\"gray\")+\n",
    "  labs(x=\"Osteoarthritis Status\", y = \"Max Trunk Lean\")+\n",
    "  theme_classic()\n",
    "\n",
    "x <- t.test(df$trunk_lean_max_mean_sit2stand[row(df)[which(df$OA_check == 0)]], df$trunk_lean_max_mean_sit2stand[row(df)[which(df$OA_check == 1)]])\n",
    "x\n",
    "x$conf.int\n",
    "\n",
    "# Fall Status vs. trunk angle\n",
    "df$Fall_YN.fact <- as.factor(df$Fall_YN)\n",
    "ggplot(df, aes(x=Fall_YN.fact, y=trunk_lean_max_mean_sit2stand)) + \n",
    "  geom_boxplot(fill=\"gray\")+\n",
    "  labs(x=\"Fall Status\", y = \"Max Trunk Lean\")+\n",
    "  theme_classic()\n",
    "\n",
    "x <- t.test(df$trunk_lean_max_mean_sit2stand[row(df)[which(df$Fall_YN == 0)]], df$trunk_lean_max_mean_sit2stand[row(df)[which(df$Fall_YN == 1)]])\n",
    "x\n",
    "x$conf.int\n",
    "\n",
    "# Mental health vs. Trunk Acceleration\n",
    "plot3 <- ggscatter(df_age50plus, x = \"trunk_lean_max_ang_acc_sit2stand\", y = \"GMH_TScore\", xlab = \"Max Trunk Acceleration\", size = 3, font.label = c(20, \"plain\"),\n",
    "  ylab = \"Mental Health\",\n",
    "   add = \"reg.line\",  # Add regressin line\n",
    "   add.params = list(color = \"lightblue\", fill = \"lightgray\"), # Customize reg. line\n",
    "   conf.int = TRUE # Add confidence interval\n",
    "   )\n",
    "plot3 + stat_cor(method = \"pearson\", label.x = 250, label.y = 70)"
   ]
  },
  {
   "cell_type": "code",
   "execution_count": 90,
   "metadata": {
    "vscode": {
     "languageId": "r"
    }
   },
   "outputs": [
    {
     "data": {
      "text/html": [
       "<style>\n",
       ".dl-inline {width: auto; margin:0; padding: 0}\n",
       ".dl-inline>dt, .dl-inline>dd {float: none; width: auto; display: inline-block}\n",
       ".dl-inline>dt::after {content: \":\\0020\"; padding-right: .5ex}\n",
       ".dl-inline>dt:not(:first-of-type) {padding-left: .5ex}\n",
       "</style><dl class=dl-inline><dt>cor.test.df.time..df.Age..p.value</dt><dd>8.76367538680823e-12</dd><dt>cor.test.df.time..df.Sex..p.value</dt><dd>0.893370043325215</dd><dt>cor.test.df.time..df.BMI..p.value</dt><dd>0.00033952529194627</dd><dt>cor.test.df.time..df.EthBin..p.value</dt><dd>0.581228931835551</dd><dt>cor.test.df.time..df.GPH_TScore..p.value</dt><dd>0.00033952529194627</dd><dt>cor.test.df.time..df.GMH_TScore..p.value</dt><dd>0.893370043325215</dd><dt>cor.test.df.time..df.OA_check..p.value</dt><dd>0.00141455905488351</dd><dt>cor.test.df.trunk_lean_max_mean_sit2stand..df.Age..p.value</dt><dd>0.00628671393198481</dd><dt>cor.test.df.trunk_lean_max_mean_sit2stand..df.Sex..p.value</dt><dd>0.975012035144264</dd><dt>cor.test.df.trunk_lean_max_mean_sit2stand..df.EthBin..p.value</dt><dd>0.00592338782087874</dd><dt>cor.test.df.trunk_lean_max_mean_sit2stand..df.BMI..p.value</dt><dd>0.48055428625825</dd><dt>cor.test.df.trunk_lean_max_mean_sit2stand..df.GPH_TScore..p.value</dt><dd>0.893370043325215</dd><dt>cor.test.df.trunk_lean_max_mean_sit2stand..df.GMH_TScore..p.value</dt><dd>0.483427176428556</dd><dt>cor.test.df.trunk_lean_max_mean_sit2stand..df.OA_check..p.value</dt><dd>0.00117607162605239</dd><dt>cor.test.df.trunk_lean_max_ang_acc_sit2stand..df.Age..p.value</dt><dd>0.893370043325215</dd><dt>cor.test.df.trunk_lean_max_ang_acc_sit2stand..df.Sex..p.value</dt><dd>0.62015577672459</dd><dt>cor.test.df.trunk_lean_max_ang_acc_sit2stand..df.BMI..p.value</dt><dd>0.893370043325215</dd><dt>cor.test.df.trunk_lean_max_ang_acc_sit2stand..df.EthBin..p.value</dt><dd>0.943443805353693</dd><dt>cor.test.df.trunk_lean_max_ang_acc_sit2stand..df.GPH_TScore..p.value</dt><dd>0.755113817438037</dd><dt>cor.test.df.trunk_lean_max_ang_acc_sit2stand..df.GMH_TScore..p.value</dt><dd>0.943443805353693</dd><dt>cor.test.df.trunk_lean_max_ang_acc_sit2stand..df.OA_check..p.value</dt><dd>0.483427176428556</dd></dl>\n"
      ],
      "text/latex": [
       "\\begin{description*}\n",
       "\\item[cor.test.df.time..df.Age..p.value] 8.76367538680823e-12\n",
       "\\item[cor.test.df.time..df.Sex..p.value] 0.893370043325215\n",
       "\\item[cor.test.df.time..df.BMI..p.value] 0.00033952529194627\n",
       "\\item[cor.test.df.time..df.EthBin..p.value] 0.581228931835551\n",
       "\\item[cor.test.df.time..df.GPH\\textbackslash{}\\_TScore..p.value] 0.00033952529194627\n",
       "\\item[cor.test.df.time..df.GMH\\textbackslash{}\\_TScore..p.value] 0.893370043325215\n",
       "\\item[cor.test.df.time..df.OA\\textbackslash{}\\_check..p.value] 0.00141455905488351\n",
       "\\item[cor.test.df.trunk\\textbackslash{}\\_lean\\textbackslash{}\\_max\\textbackslash{}\\_mean\\textbackslash{}\\_sit2stand..df.Age..p.value] 0.00628671393198481\n",
       "\\item[cor.test.df.trunk\\textbackslash{}\\_lean\\textbackslash{}\\_max\\textbackslash{}\\_mean\\textbackslash{}\\_sit2stand..df.Sex..p.value] 0.975012035144264\n",
       "\\item[cor.test.df.trunk\\textbackslash{}\\_lean\\textbackslash{}\\_max\\textbackslash{}\\_mean\\textbackslash{}\\_sit2stand..df.EthBin..p.value] 0.00592338782087874\n",
       "\\item[cor.test.df.trunk\\textbackslash{}\\_lean\\textbackslash{}\\_max\\textbackslash{}\\_mean\\textbackslash{}\\_sit2stand..df.BMI..p.value] 0.48055428625825\n",
       "\\item[cor.test.df.trunk\\textbackslash{}\\_lean\\textbackslash{}\\_max\\textbackslash{}\\_mean\\textbackslash{}\\_sit2stand..df.GPH\\textbackslash{}\\_TScore..p.value] 0.893370043325215\n",
       "\\item[cor.test.df.trunk\\textbackslash{}\\_lean\\textbackslash{}\\_max\\textbackslash{}\\_mean\\textbackslash{}\\_sit2stand..df.GMH\\textbackslash{}\\_TScore..p.value] 0.483427176428556\n",
       "\\item[cor.test.df.trunk\\textbackslash{}\\_lean\\textbackslash{}\\_max\\textbackslash{}\\_mean\\textbackslash{}\\_sit2stand..df.OA\\textbackslash{}\\_check..p.value] 0.00117607162605239\n",
       "\\item[cor.test.df.trunk\\textbackslash{}\\_lean\\textbackslash{}\\_max\\textbackslash{}\\_ang\\textbackslash{}\\_acc\\textbackslash{}\\_sit2stand..df.Age..p.value] 0.893370043325215\n",
       "\\item[cor.test.df.trunk\\textbackslash{}\\_lean\\textbackslash{}\\_max\\textbackslash{}\\_ang\\textbackslash{}\\_acc\\textbackslash{}\\_sit2stand..df.Sex..p.value] 0.62015577672459\n",
       "\\item[cor.test.df.trunk\\textbackslash{}\\_lean\\textbackslash{}\\_max\\textbackslash{}\\_ang\\textbackslash{}\\_acc\\textbackslash{}\\_sit2stand..df.BMI..p.value] 0.893370043325215\n",
       "\\item[cor.test.df.trunk\\textbackslash{}\\_lean\\textbackslash{}\\_max\\textbackslash{}\\_ang\\textbackslash{}\\_acc\\textbackslash{}\\_sit2stand..df.EthBin..p.value] 0.943443805353693\n",
       "\\item[cor.test.df.trunk\\textbackslash{}\\_lean\\textbackslash{}\\_max\\textbackslash{}\\_ang\\textbackslash{}\\_acc\\textbackslash{}\\_sit2stand..df.GPH\\textbackslash{}\\_TScore..p.value] 0.755113817438037\n",
       "\\item[cor.test.df.trunk\\textbackslash{}\\_lean\\textbackslash{}\\_max\\textbackslash{}\\_ang\\textbackslash{}\\_acc\\textbackslash{}\\_sit2stand..df.GMH\\textbackslash{}\\_TScore..p.value] 0.943443805353693\n",
       "\\item[cor.test.df.trunk\\textbackslash{}\\_lean\\textbackslash{}\\_max\\textbackslash{}\\_ang\\textbackslash{}\\_acc\\textbackslash{}\\_sit2stand..df.OA\\textbackslash{}\\_check..p.value] 0.483427176428556\n",
       "\\end{description*}\n"
      ],
      "text/markdown": [
       "cor.test.df.time..df.Age..p.value\n",
       ":   8.76367538680823e-12cor.test.df.time..df.Sex..p.value\n",
       ":   0.893370043325215cor.test.df.time..df.BMI..p.value\n",
       ":   0.00033952529194627cor.test.df.time..df.EthBin..p.value\n",
       ":   0.581228931835551cor.test.df.time..df.GPH_TScore..p.value\n",
       ":   0.00033952529194627cor.test.df.time..df.GMH_TScore..p.value\n",
       ":   0.893370043325215cor.test.df.time..df.OA_check..p.value\n",
       ":   0.00141455905488351cor.test.df.trunk_lean_max_mean_sit2stand..df.Age..p.value\n",
       ":   0.00628671393198481cor.test.df.trunk_lean_max_mean_sit2stand..df.Sex..p.value\n",
       ":   0.975012035144264cor.test.df.trunk_lean_max_mean_sit2stand..df.EthBin..p.value\n",
       ":   0.00592338782087874cor.test.df.trunk_lean_max_mean_sit2stand..df.BMI..p.value\n",
       ":   0.48055428625825cor.test.df.trunk_lean_max_mean_sit2stand..df.GPH_TScore..p.value\n",
       ":   0.893370043325215cor.test.df.trunk_lean_max_mean_sit2stand..df.GMH_TScore..p.value\n",
       ":   0.483427176428556cor.test.df.trunk_lean_max_mean_sit2stand..df.OA_check..p.value\n",
       ":   0.00117607162605239cor.test.df.trunk_lean_max_ang_acc_sit2stand..df.Age..p.value\n",
       ":   0.893370043325215cor.test.df.trunk_lean_max_ang_acc_sit2stand..df.Sex..p.value\n",
       ":   0.62015577672459cor.test.df.trunk_lean_max_ang_acc_sit2stand..df.BMI..p.value\n",
       ":   0.893370043325215cor.test.df.trunk_lean_max_ang_acc_sit2stand..df.EthBin..p.value\n",
       ":   0.943443805353693cor.test.df.trunk_lean_max_ang_acc_sit2stand..df.GPH_TScore..p.value\n",
       ":   0.755113817438037cor.test.df.trunk_lean_max_ang_acc_sit2stand..df.GMH_TScore..p.value\n",
       ":   0.943443805353693cor.test.df.trunk_lean_max_ang_acc_sit2stand..df.OA_check..p.value\n",
       ":   0.483427176428556\n",
       "\n"
      ],
      "text/plain": [
       "                                   cor.test.df.time..df.Age..p.value \n",
       "                                                        8.763675e-12 \n",
       "                                   cor.test.df.time..df.Sex..p.value \n",
       "                                                        8.933700e-01 \n",
       "                                   cor.test.df.time..df.BMI..p.value \n",
       "                                                        3.395253e-04 \n",
       "                                cor.test.df.time..df.EthBin..p.value \n",
       "                                                        5.812289e-01 \n",
       "                            cor.test.df.time..df.GPH_TScore..p.value \n",
       "                                                        3.395253e-04 \n",
       "                            cor.test.df.time..df.GMH_TScore..p.value \n",
       "                                                        8.933700e-01 \n",
       "                              cor.test.df.time..df.OA_check..p.value \n",
       "                                                        1.414559e-03 \n",
       "          cor.test.df.trunk_lean_max_mean_sit2stand..df.Age..p.value \n",
       "                                                        6.286714e-03 \n",
       "          cor.test.df.trunk_lean_max_mean_sit2stand..df.Sex..p.value \n",
       "                                                        9.750120e-01 \n",
       "       cor.test.df.trunk_lean_max_mean_sit2stand..df.EthBin..p.value \n",
       "                                                        5.923388e-03 \n",
       "          cor.test.df.trunk_lean_max_mean_sit2stand..df.BMI..p.value \n",
       "                                                        4.805543e-01 \n",
       "   cor.test.df.trunk_lean_max_mean_sit2stand..df.GPH_TScore..p.value \n",
       "                                                        8.933700e-01 \n",
       "   cor.test.df.trunk_lean_max_mean_sit2stand..df.GMH_TScore..p.value \n",
       "                                                        4.834272e-01 \n",
       "     cor.test.df.trunk_lean_max_mean_sit2stand..df.OA_check..p.value \n",
       "                                                        1.176072e-03 \n",
       "       cor.test.df.trunk_lean_max_ang_acc_sit2stand..df.Age..p.value \n",
       "                                                        8.933700e-01 \n",
       "       cor.test.df.trunk_lean_max_ang_acc_sit2stand..df.Sex..p.value \n",
       "                                                        6.201558e-01 \n",
       "       cor.test.df.trunk_lean_max_ang_acc_sit2stand..df.BMI..p.value \n",
       "                                                        8.933700e-01 \n",
       "    cor.test.df.trunk_lean_max_ang_acc_sit2stand..df.EthBin..p.value \n",
       "                                                        9.434438e-01 \n",
       "cor.test.df.trunk_lean_max_ang_acc_sit2stand..df.GPH_TScore..p.value \n",
       "                                                        7.551138e-01 \n",
       "cor.test.df.trunk_lean_max_ang_acc_sit2stand..df.GMH_TScore..p.value \n",
       "                                                        9.434438e-01 \n",
       "  cor.test.df.trunk_lean_max_ang_acc_sit2stand..df.OA_check..p.value \n",
       "                                                        4.834272e-01 "
      ]
     },
     "metadata": {},
     "output_type": "display_data"
    },
    {
     "data": {
      "text/html": [
       "<style>\n",
       ".dl-inline {width: auto; margin:0; padding: 0}\n",
       ".dl-inline>dt, .dl-inline>dd {float: none; width: auto; display: inline-block}\n",
       ".dl-inline>dt::after {content: \":\\0020\"; padding-right: .5ex}\n",
       ".dl-inline>dt:not(:first-of-type) {padding-left: .5ex}\n",
       "</style><dl class=dl-inline><dt>cor.test.df_age50plus.time..df_age50plus.GPH_TScore..p.value</dt><dd>0.000170698228775076</dd><dt>cor.test.df_age50plus.time..df_age50plus.GMH_TScore..p.value</dt><dd>0.570072143417398</dd><dt>cor.test.df_age50plus.trunk_lean_max_mean_sit2stand..df_age50plus.GPH_TScore..p.value</dt><dd>0.0686728497915673</dd><dt>cor.test.df_age50plus.trunk_lean_max_mean_sit2stand..df_age50plus.GMH_TScore..p.value</dt><dd>0.447680791248014</dd><dt>cor.test.df_age50plus.trunk_lean_max_ang_acc_sit2stand..df_age50plus.GPH_TScore..p.value</dt><dd>0.447680791248014</dd><dt>cor.test.df_age50plus.trunk_lean_max_ang_acc_sit2stand..df_age50plus.GMH_TScore..p.value</dt><dd>0.0121589365155099</dd></dl>\n"
      ],
      "text/latex": [
       "\\begin{description*}\n",
       "\\item[cor.test.df\\textbackslash{}\\_age50plus.time..df\\textbackslash{}\\_age50plus.GPH\\textbackslash{}\\_TScore..p.value] 0.000170698228775076\n",
       "\\item[cor.test.df\\textbackslash{}\\_age50plus.time..df\\textbackslash{}\\_age50plus.GMH\\textbackslash{}\\_TScore..p.value] 0.570072143417398\n",
       "\\item[cor.test.df\\textbackslash{}\\_age50plus.trunk\\textbackslash{}\\_lean\\textbackslash{}\\_max\\textbackslash{}\\_mean\\textbackslash{}\\_sit2stand..df\\textbackslash{}\\_age50plus.GPH\\textbackslash{}\\_TScore..p.value] 0.0686728497915673\n",
       "\\item[cor.test.df\\textbackslash{}\\_age50plus.trunk\\textbackslash{}\\_lean\\textbackslash{}\\_max\\textbackslash{}\\_mean\\textbackslash{}\\_sit2stand..df\\textbackslash{}\\_age50plus.GMH\\textbackslash{}\\_TScore..p.value] 0.447680791248014\n",
       "\\item[cor.test.df\\textbackslash{}\\_age50plus.trunk\\textbackslash{}\\_lean\\textbackslash{}\\_max\\textbackslash{}\\_ang\\textbackslash{}\\_acc\\textbackslash{}\\_sit2stand..df\\textbackslash{}\\_age50plus.GPH\\textbackslash{}\\_TScore..p.value] 0.447680791248014\n",
       "\\item[cor.test.df\\textbackslash{}\\_age50plus.trunk\\textbackslash{}\\_lean\\textbackslash{}\\_max\\textbackslash{}\\_ang\\textbackslash{}\\_acc\\textbackslash{}\\_sit2stand..df\\textbackslash{}\\_age50plus.GMH\\textbackslash{}\\_TScore..p.value] 0.0121589365155099\n",
       "\\end{description*}\n"
      ],
      "text/markdown": [
       "cor.test.df_age50plus.time..df_age50plus.GPH_TScore..p.value\n",
       ":   0.000170698228775076cor.test.df_age50plus.time..df_age50plus.GMH_TScore..p.value\n",
       ":   0.570072143417398cor.test.df_age50plus.trunk_lean_max_mean_sit2stand..df_age50plus.GPH_TScore..p.value\n",
       ":   0.0686728497915673cor.test.df_age50plus.trunk_lean_max_mean_sit2stand..df_age50plus.GMH_TScore..p.value\n",
       ":   0.447680791248014cor.test.df_age50plus.trunk_lean_max_ang_acc_sit2stand..df_age50plus.GPH_TScore..p.value\n",
       ":   0.447680791248014cor.test.df_age50plus.trunk_lean_max_ang_acc_sit2stand..df_age50plus.GMH_TScore..p.value\n",
       ":   0.0121589365155099\n",
       "\n"
      ],
      "text/plain": [
       "                            cor.test.df_age50plus.time..df_age50plus.GPH_TScore..p.value \n",
       "                                                                            0.0001706982 \n",
       "                            cor.test.df_age50plus.time..df_age50plus.GMH_TScore..p.value \n",
       "                                                                            0.5700721434 \n",
       "   cor.test.df_age50plus.trunk_lean_max_mean_sit2stand..df_age50plus.GPH_TScore..p.value \n",
       "                                                                            0.0686728498 \n",
       "   cor.test.df_age50plus.trunk_lean_max_mean_sit2stand..df_age50plus.GMH_TScore..p.value \n",
       "                                                                            0.4476807912 \n",
       "cor.test.df_age50plus.trunk_lean_max_ang_acc_sit2stand..df_age50plus.GPH_TScore..p.value \n",
       "                                                                            0.4476807912 \n",
       "cor.test.df_age50plus.trunk_lean_max_ang_acc_sit2stand..df_age50plus.GMH_TScore..p.value \n",
       "                                                                            0.0121589365 "
      ]
     },
     "metadata": {},
     "output_type": "display_data"
    }
   ],
   "source": [
    "all.cors.p <- data.frame(cor.test(df$time,df$Age)$p.value, cor.test(df$time,df$Sex)$p.value, cor.test(df$time,df$BMI)$p.value, cor.test(df$time,df$EthBin)$p.value, cor.test(df$time,df$GPH_TScore)$p.value, cor.test(df$time,df$GMH_TScore)$p.value, cor.test(df$time,df$OA_check)$p.value, cor.test(df$trunk_lean_max_mean_sit2stand,df$Age)$p.value, cor.test(df$trunk_lean_max_mean_sit2stand,df$Sex)$p.value, cor.test(df$trunk_lean_max_mean_sit2stand,df$EthBin)$p.value, cor.test(df$trunk_lean_max_mean_sit2stand,df$BMI)$p.value, cor.test(df$trunk_lean_max_mean_sit2stand,df$GPH_TScore)$p.value, cor.test(df$trunk_lean_max_mean_sit2stand,df$GMH_TScore)$p.value, cor.test(df$trunk_lean_max_mean_sit2stand,df$OA_check)$p.value, cor.test(df$trunk_lean_max_ang_acc_sit2stand,df$Age)$p.value, cor.test(df$trunk_lean_max_ang_acc_sit2stand,df$Sex)$p.value, cor.test(df$trunk_lean_max_ang_acc_sit2stand,df$BMI)$p.value, cor.test(df$trunk_lean_max_ang_acc_sit2stand,df$EthBin)$p.value,  cor.test(df$trunk_lean_max_ang_acc_sit2stand,df$GPH_TScore)$p.value, cor.test(df$trunk_lean_max_ang_acc_sit2stand,df$GMH_TScore)$p.value, cor.test(df$trunk_lean_max_ang_acc_sit2stand,df$OA_check)$p.value)\n",
    "\n",
    "all.cors.p.adj <- p.adjust(all.cors.p, method = \"fdr\", n = length(all.cors.p))\n",
    "all.cors.p.adj\n",
    "\n",
    "all.cors.50.p <- data.frame(cor.test(df_age50plus$time,df_age50plus$GPH_TScore)$p.value, cor.test(df_age50plus$time,df_age50plus$GMH_TScore)$p.value, cor.test(df_age50plus$trunk_lean_max_mean_sit2stand,df_age50plus$GPH_TScore)$p.value, cor.test(df_age50plus$trunk_lean_max_mean_sit2stand,df_age50plus$GMH_TScore)$p.value, cor.test(df_age50plus$trunk_lean_max_ang_acc_sit2stand,df_age50plus$GPH_TScore)$p.value, cor.test(df_age50plus$trunk_lean_max_ang_acc_sit2stand,df_age50plus$GMH_TScore)$p.value)\n",
    "\n",
    "all.cors.50.p.adj <- p.adjust(all.cors.50.p, method = \"fdr\", n = length(all.cors.50.p))\n",
    "all.cors.50.p.adj"
   ]
  },
  {
   "cell_type": "code",
   "execution_count": null,
   "metadata": {
    "vscode": {
     "languageId": "r"
    }
   },
   "outputs": [],
   "source": []
  },
  {
   "cell_type": "code",
   "execution_count": null,
   "metadata": {
    "vscode": {
     "languageId": "r"
    }
   },
   "outputs": [],
   "source": []
  },
  {
   "cell_type": "code",
   "execution_count": null,
   "metadata": {
    "vscode": {
     "languageId": "r"
    }
   },
   "outputs": [],
   "source": []
  },
  {
   "cell_type": "code",
   "execution_count": null,
   "metadata": {
    "vscode": {
     "languageId": "r"
    }
   },
   "outputs": [],
   "source": []
  }
 ],
 "metadata": {
  "kernelspec": {
   "display_name": "R",
   "language": "R",
   "name": "ir"
  },
  "language_info": {
   "codemirror_mode": "r",
   "file_extension": ".r",
   "mimetype": "text/x-r-source",
   "name": "R",
   "pygments_lexer": "r",
   "version": "4.3.0"
  }
 },
 "nbformat": 4,
 "nbformat_minor": 2
}
