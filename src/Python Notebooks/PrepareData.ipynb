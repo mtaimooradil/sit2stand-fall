{
 "cells": [
  {
   "cell_type": "code",
   "execution_count": null,
   "metadata": {},
   "outputs": [],
   "source": [
    "import pandas as pd\n",
    "import urllib.request\n",
    "import shutil\n",
    "import os\n",
    "import pathlib\n",
    "import csv\n",
    "import traceback\n",
    "\n",
    "%load_ext autoreload\n",
    "%autoreload 2\n",
    "from utils import *"
   ]
  },
  {
   "cell_type": "code",
   "execution_count": null,
   "metadata": {},
   "outputs": [],
   "source": [
    "# Get a list of all videos\n",
    "with open(\"links.csv\", \"r\") as f:\n",
    "    videos = [l.split(\",\")[0].strip() for l in f.readlines()]\n",
    "    videos = list(filter(lambda x: len(x) > 1,videos))\n",
    "    \n",
    "videos += [\"QYKPEz0J\"] # Melissa, lab\n",
    "print(videos)"
   ]
  },
  {
   "cell_type": "code",
   "execution_count": null,
   "metadata": {},
   "outputs": [],
   "source": [
    "# Download keypoints of a given subject\n",
    "def download_subject(slug):\n",
    "    print(slug)\n",
    "    target_path = \"videos/keypoints/{}\".format(slug)\n",
    "    if os.path.exists(target_path):\n",
    "        print(\"{} exists\".format(target_path))\n",
    "        return\n",
    "    filepath = \"/tmp/{}.tar.gz\".format(slug)\n",
    "    url = \"https://mc-motionlab-storage.s3.us-west-2.amazonaws.com/media/outputs/{}/output.tar.gz\".format(slug)\n",
    "    print(url)\n",
    "    urllib.request.urlretrieve(url, filepath)\n",
    "    \n",
    "    os.makedirs(\"/tmp/{}\".format(slug), exist_ok=True)\n",
    "    os.system(\"tar -zxvf {} -C /tmp/{}\".format(filepath, slug))   \n",
    "    \n",
    "    shutil.move(\"/tmp/{}/output/keypoints\".format(slug), target_path)"
   ]
  },
  {
   "cell_type": "code",
   "execution_count": null,
   "metadata": {},
   "outputs": [],
   "source": [
    "# Download all subjects\n",
    "for video in videos:\n",
    "    try:\n",
    "        download_subject(video)\n",
    "    except:\n",
    "        print(\"Error: \"+video)\n",
    "        traceback.print_exc()"
   ]
  },
  {
   "cell_type": "code",
   "execution_count": null,
   "metadata": {},
   "outputs": [],
   "source": [
    "# Convert to numpy arrays and save locally\n",
    "os.makedirs(\"videos/np\", exist_ok=True)\n",
    "\n",
    "for subjectid in videos:\n",
    "    try:\n",
    "        res = json2np(\"videos/keypoints/{}\".format(subjectid),subjectid)\n",
    "        np.save(\"videos/np/{}.npy\".format(subjectid), res)\n",
    "    except:\n",
    "        print(\"error \" + subjectid)"
   ]
  }
 ],
 "metadata": {
  "kernelspec": {
   "display_name": "Python 3 (ipykernel)",
   "language": "python",
   "name": "python3"
  },
  "language_info": {
   "codemirror_mode": {
    "name": "ipython",
    "version": 3
   },
   "file_extension": ".py",
   "mimetype": "text/x-python",
   "name": "python",
   "nbconvert_exporter": "python",
   "pygments_lexer": "ipython3",
   "version": "3.9.1"
  }
 },
 "nbformat": 4,
 "nbformat_minor": 4
}
