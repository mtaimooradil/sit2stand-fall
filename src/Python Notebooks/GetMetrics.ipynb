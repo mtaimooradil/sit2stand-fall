{
 "cells": [
  {
   "cell_type": "code",
   "execution_count": null,
   "metadata": {},
   "outputs": [],
   "source": [
    "%load_ext autoreload\n",
    "%autoreload 2\n",
    "from utils import process_subject, run_openpose\n",
    "import os\n",
    "import numpy as np\n",
    "import pandas as pd\n",
    "import pickle\n",
    "import traceback\n",
    "from utils import videometa"
   ]
  },
  {
   "cell_type": "code",
   "execution_count": null,
   "metadata": {},
   "outputs": [],
   "source": [
    "# Get a list of all subjects\n",
    "subjects = [r.replace(\".npy\",\"\") for r in os.listdir(\"videos/np/\")]"
   ]
  },
  {
   "cell_type": "code",
   "execution_count": null,
   "metadata": {
    "scrolled": true
   },
   "outputs": [],
   "source": [
    "skipped = []\n",
    "all_res = []\n",
    "\n",
    "# Convert OpenPose frames to a numpy array\n",
    "for subjectid in subjects: #).difference(set(toremove + tocheck)):\n",
    "    print(subjectid)\n",
    "    try:\n",
    "        results = process_subject(subjectid)\n",
    "    except Exception as e:\n",
    "        traceback.print_exc()\n",
    "        skipped.append(subjectid)\n",
    "        print(\"Skipped \" + subjectid)\n",
    "        continue\n",
    "    all_res.append(results)    \n",
    "print(skipped)"
   ]
  },
  {
   "cell_type": "code",
   "execution_count": null,
   "metadata": {},
   "outputs": [],
   "source": [
    "# Write ids of all videos that were skipped\n",
    "for s in skipped:\n",
    "    print(s)"
   ]
  },
  {
   "cell_type": "code",
   "execution_count": null,
   "metadata": {},
   "outputs": [],
   "source": [
    "# Print out and save results\n",
    "res_df = pd.DataFrame(all_res)\n",
    "res_df"
   ]
  },
  {
   "cell_type": "code",
   "execution_count": null,
   "metadata": {},
   "outputs": [],
   "source": [
    "res_df.to_csv(\"results-20220420.csv\")"
   ]
  }
 ],
 "metadata": {
  "kernelspec": {
   "display_name": "Python 3 (ipykernel)",
   "language": "python",
   "name": "python3"
  },
  "language_info": {
   "codemirror_mode": {
    "name": "ipython",
    "version": 3
   },
   "file_extension": ".py",
   "mimetype": "text/x-python",
   "name": "python",
   "nbconvert_exporter": "python",
   "pygments_lexer": "ipython3",
   "version": "3.10.11"
  }
 },
 "nbformat": 4,
 "nbformat_minor": 4
}
